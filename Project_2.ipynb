{
  "nbformat": 4,
  "nbformat_minor": 0,
  "metadata": {
    "colab": {
      "provenance": [],
      "collapsed_sections": [
        "FIz_d1MR5O9-"
      ],
      "authorship_tag": "ABX9TyP9q376vaAzLkNNKfTZ2L0k",
      "include_colab_link": true
    },
    "kernelspec": {
      "name": "python3",
      "display_name": "Python 3"
    },
    "language_info": {
      "name": "python"
    }
  },
  "cells": [
    {
      "cell_type": "markdown",
      "metadata": {
        "id": "view-in-github",
        "colab_type": "text"
      },
      "source": [
        "<a href=\"https://colab.research.google.com/github/DimitriosK/Credit-Score/blob/main/Project_2.ipynb\" target=\"_parent\"><img src=\"https://colab.research.google.com/assets/colab-badge.svg\" alt=\"Open In Colab\"/></a>"
      ]
    },
    {
      "cell_type": "markdown",
      "source": [
        "### Credit score classification\n",
        "\n",
        "![dataset-cover.jpeg](data:image/jpeg;base64,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)\n",
        "\n",
        "by Olena Bugaiova and Dimitrios Karslidis"
      ],
      "metadata": {
        "id": "q3kqMcVXhlYH"
      }
    },
    {
      "cell_type": "markdown",
      "source": [
        "### Problem statement\n",
        "* Over the years, a global finance company has collected basic bank details and gathered a lot of credit-related information. The management wants to build an intelligent system to segregate the people into credit score brackets to reduce the manual efforts\n",
        "* Given a person’s credit-related information, build a machine learning model that can classify the credit score\n",
        "*   We downloaded the data [Credit Score Classification](https://www.kaggle.com/datasets/parisrohan/credit-score-classification) from Kaggle"
      ],
      "metadata": {
        "id": "WGrRMUGeidOB"
      }
    },
    {
      "cell_type": "code",
      "source": [
        "import math\n",
        "import pandas as pd\n",
        "import numpy as np\n",
        "import seaborn as sns \n",
        "import matplotlib.pyplot as plt\n",
        "import plotly.express as px\n",
        "import re\n",
        "import missingno\n",
        "from sklearn.model_selection import train_test_split\n",
        "from sklearn.model_selection import GridSearchCV\n",
        "from sklearn.model_selection import RandomizedSearchCV\n",
        "from sklearn.preprocessing import OneHotEncoder\n",
        "from sklearn.preprocessing import OrdinalEncoder\n",
        "from sklearn.preprocessing import PowerTransformer\n",
        "from sklearn.metrics import accuracy_score,recall_score,roc_auc_score,precision_score,\\\n",
        "confusion_matrix,classification_report,plot_confusion_matrix\n",
        "from sklearn.model_selection import cross_val_score\n",
        "import xgboost as xgb\n",
        "from sklearn.ensemble import RandomForestClassifier,RandomForestRegressor\n",
        "from sklearn.ensemble import BaggingClassifier\n",
        "pd.set_option(\"display.max_rows\",None)\n",
        "pd.set_option(\"display.max_columns\",None)\n",
        "pd.set_option('display.max_colwidth',None)\n",
        "%matplotlib inline\n",
        "plt.style.use('seaborn')\n"
      ],
      "metadata": {
        "id": "GSIzrukiWCk7"
      },
      "execution_count": null,
      "outputs": []
    },
    {
      "cell_type": "markdown",
      "source": [
        "### Gather Data"
      ],
      "metadata": {
        "id": "RtA5NPEZMOd4"
      }
    },
    {
      "cell_type": "code",
      "source": [
        "from google.colab import drive\n",
        "drive.mount('/content/drive')"
      ],
      "metadata": {
        "colab": {
          "base_uri": "https://localhost:8080/"
        },
        "id": "oaSMpId_XVLo",
        "outputId": "5cd6a80c-07ae-4f00-e728-b49d2b8a5e6b"
      },
      "execution_count": null,
      "outputs": [
        {
          "output_type": "stream",
          "name": "stdout",
          "text": [
            "Mounted at /content/drive\n"
          ]
        }
      ]
    },
    {
      "cell_type": "code",
      "source": [
        "df=pd.read_csv('/content/drive/MyDrive/Colab Notebooks/train.csv')"
      ],
      "metadata": {
        "colab": {
          "base_uri": "https://localhost:8080/"
        },
        "id": "rkzotT8NXgNT",
        "outputId": "7864d567-5ac8-4afa-8777-fbda17000775"
      },
      "execution_count": null,
      "outputs": [
        {
          "output_type": "stream",
          "name": "stderr",
          "text": [
            "/usr/local/lib/python3.7/dist-packages/IPython/core/interactiveshell.py:3326: DtypeWarning: Columns (26) have mixed types.Specify dtype option on import or set low_memory=False.\n",
            "  exec(code_obj, self.user_global_ns, self.user_ns)\n"
          ]
        }
      ]
    },
    {
      "cell_type": "markdown",
      "source": [
        "### Assess the data\n",
        "* Print the number of rows and columns of the dataframe `df`.\n",
        "* Select randomly 5 rows of the dataframe `df` and then print them.\n",
        "* Check for:\n",
        "  * missing and duplicated rows\n",
        "  * the types of the feautres\n",
        "* Some columns have missing values that pandas does not recognize:\n",
        "  * `Occupation` has as value this character '_______'\n",
        "  * `Changed_Credit_Limit` has as value this character '_'"
      ],
      "metadata": {
        "id": "RBYzzpTmdrfj"
      }
    },
    {
      "cell_type": "code",
      "source": [
        "rows,columns=df.shape #The dataframs has 28 columns and 10000 rows\n",
        "print(f'The number of rows is {rows} and the number of columns is {columns}')"
      ],
      "metadata": {
        "colab": {
          "base_uri": "https://localhost:8080/"
        },
        "id": "83ogJGQXXpHl",
        "outputId": "9830a626-13df-42ff-b083-cac9e72fb452"
      },
      "execution_count": null,
      "outputs": [
        {
          "output_type": "stream",
          "name": "stdout",
          "text": [
            "The number of rows is 100000 and the number of columns is 28\n"
          ]
        }
      ]
    },
    {
      "cell_type": "code",
      "source": [
        "df.head(5)"
      ],
      "metadata": {
        "colab": {
          "base_uri": "https://localhost:8080/",
          "height": 704
        },
        "id": "KWWqmkjnfhWA",
        "outputId": "8ea719e0-61ae-41bc-b480-78b214b1abfb"
      },
      "execution_count": null,
      "outputs": [
        {
          "output_type": "execute_result",
          "data": {
            "text/plain": [
              "       ID Customer_ID     Month           Name   Age          SSN Occupation  \\\n",
              "0  0x1602   CUS_0xd40   January  Aaron Maashoh    23  821-00-0265  Scientist   \n",
              "1  0x1603   CUS_0xd40  February  Aaron Maashoh    23  821-00-0265  Scientist   \n",
              "2  0x1604   CUS_0xd40     March  Aaron Maashoh  -500  821-00-0265  Scientist   \n",
              "3  0x1605   CUS_0xd40     April  Aaron Maashoh    23  821-00-0265  Scientist   \n",
              "4  0x1606   CUS_0xd40       May  Aaron Maashoh    23  821-00-0265  Scientist   \n",
              "\n",
              "  Annual_Income  Monthly_Inhand_Salary  Num_Bank_Accounts  Num_Credit_Card  \\\n",
              "0      19114.12            1824.843333                  3                4   \n",
              "1      19114.12                    NaN                  3                4   \n",
              "2      19114.12                    NaN                  3                4   \n",
              "3      19114.12                    NaN                  3                4   \n",
              "4      19114.12            1824.843333                  3                4   \n",
              "\n",
              "   Interest_Rate Num_of_Loan  \\\n",
              "0              3           4   \n",
              "1              3           4   \n",
              "2              3           4   \n",
              "3              3           4   \n",
              "4              3           4   \n",
              "\n",
              "                                                          Type_of_Loan  \\\n",
              "0  Auto Loan, Credit-Builder Loan, Personal Loan, and Home Equity Loan   \n",
              "1  Auto Loan, Credit-Builder Loan, Personal Loan, and Home Equity Loan   \n",
              "2  Auto Loan, Credit-Builder Loan, Personal Loan, and Home Equity Loan   \n",
              "3  Auto Loan, Credit-Builder Loan, Personal Loan, and Home Equity Loan   \n",
              "4  Auto Loan, Credit-Builder Loan, Personal Loan, and Home Equity Loan   \n",
              "\n",
              "   Delay_from_due_date Num_of_Delayed_Payment Changed_Credit_Limit  \\\n",
              "0                    3                      7                11.27   \n",
              "1                   -1                    NaN                11.27   \n",
              "2                    3                      7                    _   \n",
              "3                    5                      4                 6.27   \n",
              "4                    6                    NaN                11.27   \n",
              "\n",
              "   Num_Credit_Inquiries Credit_Mix Outstanding_Debt  Credit_Utilization_Ratio  \\\n",
              "0                   4.0          _           809.98                 26.822620   \n",
              "1                   4.0       Good           809.98                 31.944960   \n",
              "2                   4.0       Good           809.98                 28.609352   \n",
              "3                   4.0       Good           809.98                 31.377862   \n",
              "4                   4.0       Good           809.98                 24.797347   \n",
              "\n",
              "      Credit_History_Age Payment_of_Min_Amount  Total_EMI_per_month  \\\n",
              "0  22 Years and 1 Months                    No            49.574949   \n",
              "1                    NaN                    No            49.574949   \n",
              "2  22 Years and 3 Months                    No            49.574949   \n",
              "3  22 Years and 4 Months                    No            49.574949   \n",
              "4  22 Years and 5 Months                    No            49.574949   \n",
              "\n",
              "  Amount_invested_monthly                 Payment_Behaviour  \\\n",
              "0       80.41529543900253   High_spent_Small_value_payments   \n",
              "1      118.28022162236736    Low_spent_Large_value_payments   \n",
              "2         81.699521264648   Low_spent_Medium_value_payments   \n",
              "3       199.4580743910713    Low_spent_Small_value_payments   \n",
              "4      41.420153086217326  High_spent_Medium_value_payments   \n",
              "\n",
              "      Monthly_Balance Credit_Score  \n",
              "0  312.49408867943663         Good  \n",
              "1  284.62916249607184         Good  \n",
              "2   331.2098628537912         Good  \n",
              "3  223.45130972736786         Good  \n",
              "4  341.48923103222177         Good  "
            ],
            "text/html": [
              "\n",
              "  <div id=\"df-58775085-230b-4b5e-83e8-2257bdba6397\">\n",
              "    <div class=\"colab-df-container\">\n",
              "      <div>\n",
              "<style scoped>\n",
              "    .dataframe tbody tr th:only-of-type {\n",
              "        vertical-align: middle;\n",
              "    }\n",
              "\n",
              "    .dataframe tbody tr th {\n",
              "        vertical-align: top;\n",
              "    }\n",
              "\n",
              "    .dataframe thead th {\n",
              "        text-align: right;\n",
              "    }\n",
              "</style>\n",
              "<table border=\"1\" class=\"dataframe\">\n",
              "  <thead>\n",
              "    <tr style=\"text-align: right;\">\n",
              "      <th></th>\n",
              "      <th>ID</th>\n",
              "      <th>Customer_ID</th>\n",
              "      <th>Month</th>\n",
              "      <th>Name</th>\n",
              "      <th>Age</th>\n",
              "      <th>SSN</th>\n",
              "      <th>Occupation</th>\n",
              "      <th>Annual_Income</th>\n",
              "      <th>Monthly_Inhand_Salary</th>\n",
              "      <th>Num_Bank_Accounts</th>\n",
              "      <th>Num_Credit_Card</th>\n",
              "      <th>Interest_Rate</th>\n",
              "      <th>Num_of_Loan</th>\n",
              "      <th>Type_of_Loan</th>\n",
              "      <th>Delay_from_due_date</th>\n",
              "      <th>Num_of_Delayed_Payment</th>\n",
              "      <th>Changed_Credit_Limit</th>\n",
              "      <th>Num_Credit_Inquiries</th>\n",
              "      <th>Credit_Mix</th>\n",
              "      <th>Outstanding_Debt</th>\n",
              "      <th>Credit_Utilization_Ratio</th>\n",
              "      <th>Credit_History_Age</th>\n",
              "      <th>Payment_of_Min_Amount</th>\n",
              "      <th>Total_EMI_per_month</th>\n",
              "      <th>Amount_invested_monthly</th>\n",
              "      <th>Payment_Behaviour</th>\n",
              "      <th>Monthly_Balance</th>\n",
              "      <th>Credit_Score</th>\n",
              "    </tr>\n",
              "  </thead>\n",
              "  <tbody>\n",
              "    <tr>\n",
              "      <th>0</th>\n",
              "      <td>0x1602</td>\n",
              "      <td>CUS_0xd40</td>\n",
              "      <td>January</td>\n",
              "      <td>Aaron Maashoh</td>\n",
              "      <td>23</td>\n",
              "      <td>821-00-0265</td>\n",
              "      <td>Scientist</td>\n",
              "      <td>19114.12</td>\n",
              "      <td>1824.843333</td>\n",
              "      <td>3</td>\n",
              "      <td>4</td>\n",
              "      <td>3</td>\n",
              "      <td>4</td>\n",
              "      <td>Auto Loan, Credit-Builder Loan, Personal Loan, and Home Equity Loan</td>\n",
              "      <td>3</td>\n",
              "      <td>7</td>\n",
              "      <td>11.27</td>\n",
              "      <td>4.0</td>\n",
              "      <td>_</td>\n",
              "      <td>809.98</td>\n",
              "      <td>26.822620</td>\n",
              "      <td>22 Years and 1 Months</td>\n",
              "      <td>No</td>\n",
              "      <td>49.574949</td>\n",
              "      <td>80.41529543900253</td>\n",
              "      <td>High_spent_Small_value_payments</td>\n",
              "      <td>312.49408867943663</td>\n",
              "      <td>Good</td>\n",
              "    </tr>\n",
              "    <tr>\n",
              "      <th>1</th>\n",
              "      <td>0x1603</td>\n",
              "      <td>CUS_0xd40</td>\n",
              "      <td>February</td>\n",
              "      <td>Aaron Maashoh</td>\n",
              "      <td>23</td>\n",
              "      <td>821-00-0265</td>\n",
              "      <td>Scientist</td>\n",
              "      <td>19114.12</td>\n",
              "      <td>NaN</td>\n",
              "      <td>3</td>\n",
              "      <td>4</td>\n",
              "      <td>3</td>\n",
              "      <td>4</td>\n",
              "      <td>Auto Loan, Credit-Builder Loan, Personal Loan, and Home Equity Loan</td>\n",
              "      <td>-1</td>\n",
              "      <td>NaN</td>\n",
              "      <td>11.27</td>\n",
              "      <td>4.0</td>\n",
              "      <td>Good</td>\n",
              "      <td>809.98</td>\n",
              "      <td>31.944960</td>\n",
              "      <td>NaN</td>\n",
              "      <td>No</td>\n",
              "      <td>49.574949</td>\n",
              "      <td>118.28022162236736</td>\n",
              "      <td>Low_spent_Large_value_payments</td>\n",
              "      <td>284.62916249607184</td>\n",
              "      <td>Good</td>\n",
              "    </tr>\n",
              "    <tr>\n",
              "      <th>2</th>\n",
              "      <td>0x1604</td>\n",
              "      <td>CUS_0xd40</td>\n",
              "      <td>March</td>\n",
              "      <td>Aaron Maashoh</td>\n",
              "      <td>-500</td>\n",
              "      <td>821-00-0265</td>\n",
              "      <td>Scientist</td>\n",
              "      <td>19114.12</td>\n",
              "      <td>NaN</td>\n",
              "      <td>3</td>\n",
              "      <td>4</td>\n",
              "      <td>3</td>\n",
              "      <td>4</td>\n",
              "      <td>Auto Loan, Credit-Builder Loan, Personal Loan, and Home Equity Loan</td>\n",
              "      <td>3</td>\n",
              "      <td>7</td>\n",
              "      <td>_</td>\n",
              "      <td>4.0</td>\n",
              "      <td>Good</td>\n",
              "      <td>809.98</td>\n",
              "      <td>28.609352</td>\n",
              "      <td>22 Years and 3 Months</td>\n",
              "      <td>No</td>\n",
              "      <td>49.574949</td>\n",
              "      <td>81.699521264648</td>\n",
              "      <td>Low_spent_Medium_value_payments</td>\n",
              "      <td>331.2098628537912</td>\n",
              "      <td>Good</td>\n",
              "    </tr>\n",
              "    <tr>\n",
              "      <th>3</th>\n",
              "      <td>0x1605</td>\n",
              "      <td>CUS_0xd40</td>\n",
              "      <td>April</td>\n",
              "      <td>Aaron Maashoh</td>\n",
              "      <td>23</td>\n",
              "      <td>821-00-0265</td>\n",
              "      <td>Scientist</td>\n",
              "      <td>19114.12</td>\n",
              "      <td>NaN</td>\n",
              "      <td>3</td>\n",
              "      <td>4</td>\n",
              "      <td>3</td>\n",
              "      <td>4</td>\n",
              "      <td>Auto Loan, Credit-Builder Loan, Personal Loan, and Home Equity Loan</td>\n",
              "      <td>5</td>\n",
              "      <td>4</td>\n",
              "      <td>6.27</td>\n",
              "      <td>4.0</td>\n",
              "      <td>Good</td>\n",
              "      <td>809.98</td>\n",
              "      <td>31.377862</td>\n",
              "      <td>22 Years and 4 Months</td>\n",
              "      <td>No</td>\n",
              "      <td>49.574949</td>\n",
              "      <td>199.4580743910713</td>\n",
              "      <td>Low_spent_Small_value_payments</td>\n",
              "      <td>223.45130972736786</td>\n",
              "      <td>Good</td>\n",
              "    </tr>\n",
              "    <tr>\n",
              "      <th>4</th>\n",
              "      <td>0x1606</td>\n",
              "      <td>CUS_0xd40</td>\n",
              "      <td>May</td>\n",
              "      <td>Aaron Maashoh</td>\n",
              "      <td>23</td>\n",
              "      <td>821-00-0265</td>\n",
              "      <td>Scientist</td>\n",
              "      <td>19114.12</td>\n",
              "      <td>1824.843333</td>\n",
              "      <td>3</td>\n",
              "      <td>4</td>\n",
              "      <td>3</td>\n",
              "      <td>4</td>\n",
              "      <td>Auto Loan, Credit-Builder Loan, Personal Loan, and Home Equity Loan</td>\n",
              "      <td>6</td>\n",
              "      <td>NaN</td>\n",
              "      <td>11.27</td>\n",
              "      <td>4.0</td>\n",
              "      <td>Good</td>\n",
              "      <td>809.98</td>\n",
              "      <td>24.797347</td>\n",
              "      <td>22 Years and 5 Months</td>\n",
              "      <td>No</td>\n",
              "      <td>49.574949</td>\n",
              "      <td>41.420153086217326</td>\n",
              "      <td>High_spent_Medium_value_payments</td>\n",
              "      <td>341.48923103222177</td>\n",
              "      <td>Good</td>\n",
              "    </tr>\n",
              "  </tbody>\n",
              "</table>\n",
              "</div>\n",
              "      <button class=\"colab-df-convert\" onclick=\"convertToInteractive('df-58775085-230b-4b5e-83e8-2257bdba6397')\"\n",
              "              title=\"Convert this dataframe to an interactive table.\"\n",
              "              style=\"display:none;\">\n",
              "        \n",
              "  <svg xmlns=\"http://www.w3.org/2000/svg\" height=\"24px\"viewBox=\"0 0 24 24\"\n",
              "       width=\"24px\">\n",
              "    <path d=\"M0 0h24v24H0V0z\" fill=\"none\"/>\n",
              "    <path d=\"M18.56 5.44l.94 2.06.94-2.06 2.06-.94-2.06-.94-.94-2.06-.94 2.06-2.06.94zm-11 1L8.5 8.5l.94-2.06 2.06-.94-2.06-.94L8.5 2.5l-.94 2.06-2.06.94zm10 10l.94 2.06.94-2.06 2.06-.94-2.06-.94-.94-2.06-.94 2.06-2.06.94z\"/><path d=\"M17.41 7.96l-1.37-1.37c-.4-.4-.92-.59-1.43-.59-.52 0-1.04.2-1.43.59L10.3 9.45l-7.72 7.72c-.78.78-.78 2.05 0 2.83L4 21.41c.39.39.9.59 1.41.59.51 0 1.02-.2 1.41-.59l7.78-7.78 2.81-2.81c.8-.78.8-2.07 0-2.86zM5.41 20L4 18.59l7.72-7.72 1.47 1.35L5.41 20z\"/>\n",
              "  </svg>\n",
              "      </button>\n",
              "      \n",
              "  <style>\n",
              "    .colab-df-container {\n",
              "      display:flex;\n",
              "      flex-wrap:wrap;\n",
              "      gap: 12px;\n",
              "    }\n",
              "\n",
              "    .colab-df-convert {\n",
              "      background-color: #E8F0FE;\n",
              "      border: none;\n",
              "      border-radius: 50%;\n",
              "      cursor: pointer;\n",
              "      display: none;\n",
              "      fill: #1967D2;\n",
              "      height: 32px;\n",
              "      padding: 0 0 0 0;\n",
              "      width: 32px;\n",
              "    }\n",
              "\n",
              "    .colab-df-convert:hover {\n",
              "      background-color: #E2EBFA;\n",
              "      box-shadow: 0px 1px 2px rgba(60, 64, 67, 0.3), 0px 1px 3px 1px rgba(60, 64, 67, 0.15);\n",
              "      fill: #174EA6;\n",
              "    }\n",
              "\n",
              "    [theme=dark] .colab-df-convert {\n",
              "      background-color: #3B4455;\n",
              "      fill: #D2E3FC;\n",
              "    }\n",
              "\n",
              "    [theme=dark] .colab-df-convert:hover {\n",
              "      background-color: #434B5C;\n",
              "      box-shadow: 0px 1px 3px 1px rgba(0, 0, 0, 0.15);\n",
              "      filter: drop-shadow(0px 1px 2px rgba(0, 0, 0, 0.3));\n",
              "      fill: #FFFFFF;\n",
              "    }\n",
              "  </style>\n",
              "\n",
              "      <script>\n",
              "        const buttonEl =\n",
              "          document.querySelector('#df-58775085-230b-4b5e-83e8-2257bdba6397 button.colab-df-convert');\n",
              "        buttonEl.style.display =\n",
              "          google.colab.kernel.accessAllowed ? 'block' : 'none';\n",
              "\n",
              "        async function convertToInteractive(key) {\n",
              "          const element = document.querySelector('#df-58775085-230b-4b5e-83e8-2257bdba6397');\n",
              "          const dataTable =\n",
              "            await google.colab.kernel.invokeFunction('convertToInteractive',\n",
              "                                                     [key], {});\n",
              "          if (!dataTable) return;\n",
              "\n",
              "          const docLinkHtml = 'Like what you see? Visit the ' +\n",
              "            '<a target=\"_blank\" href=https://colab.research.google.com/notebooks/data_table.ipynb>data table notebook</a>'\n",
              "            + ' to learn more about interactive tables.';\n",
              "          element.innerHTML = '';\n",
              "          dataTable['output_type'] = 'display_data';\n",
              "          await google.colab.output.renderOutput(dataTable, element);\n",
              "          const docLink = document.createElement('div');\n",
              "          docLink.innerHTML = docLinkHtml;\n",
              "          element.appendChild(docLink);\n",
              "        }\n",
              "      </script>\n",
              "    </div>\n",
              "  </div>\n",
              "  "
            ]
          },
          "metadata": {},
          "execution_count": 9
        }
      ]
    },
    {
      "cell_type": "code",
      "source": [
        "#print the number of missing values in each column\n",
        "df.isna().sum()"
      ],
      "metadata": {
        "colab": {
          "base_uri": "https://localhost:8080/"
        },
        "id": "oDBmdV8Dh2HR",
        "outputId": "ee4b01b4-6e0d-4fd5-9e2d-012a3dc119f2"
      },
      "execution_count": null,
      "outputs": [
        {
          "output_type": "execute_result",
          "data": {
            "text/plain": [
              "ID                              0\n",
              "Customer_ID                     0\n",
              "Month                           0\n",
              "Name                         9985\n",
              "Age                             0\n",
              "SSN                             0\n",
              "Occupation                      0\n",
              "Annual_Income                   0\n",
              "Monthly_Inhand_Salary       15002\n",
              "Num_Bank_Accounts               0\n",
              "Num_Credit_Card                 0\n",
              "Interest_Rate                   0\n",
              "Num_of_Loan                     0\n",
              "Type_of_Loan                11408\n",
              "Delay_from_due_date             0\n",
              "Num_of_Delayed_Payment       7002\n",
              "Changed_Credit_Limit            0\n",
              "Num_Credit_Inquiries         1965\n",
              "Credit_Mix                      0\n",
              "Outstanding_Debt                0\n",
              "Credit_Utilization_Ratio        0\n",
              "Credit_History_Age           9030\n",
              "Payment_of_Min_Amount           0\n",
              "Total_EMI_per_month             0\n",
              "Amount_invested_monthly      4479\n",
              "Payment_Behaviour               0\n",
              "Monthly_Balance              1200\n",
              "Credit_Score                    0\n",
              "dtype: int64"
            ]
          },
          "metadata": {},
          "execution_count": 10
        }
      ]
    },
    {
      "cell_type": "code",
      "source": [
        "#The column Occupation has missing values denoted by ('_______'). Pandas does not recognize\n",
        "df.Occupation.value_counts().index\n"
      ],
      "metadata": {
        "colab": {
          "base_uri": "https://localhost:8080/"
        },
        "id": "suv30AvbOUMM",
        "outputId": "26930756-31b9-4e28-84ce-19f06ddd21fc"
      },
      "execution_count": null,
      "outputs": [
        {
          "output_type": "execute_result",
          "data": {
            "text/plain": [
              "Index(['_______', 'Lawyer', 'Architect', 'Engineer', 'Scientist', 'Mechanic',\n",
              "       'Accountant', 'Developer', 'Media_Manager', 'Teacher', 'Entrepreneur',\n",
              "       'Doctor', 'Journalist', 'Manager', 'Musician', 'Writer'],\n",
              "      dtype='object')"
            ]
          },
          "metadata": {},
          "execution_count": 11
        }
      ]
    },
    {
      "cell_type": "code",
      "source": [
        "#The column Changed_Credit_Limit has missing values denoted by ('_'). Pandas \n",
        "#does not recognize them\n",
        "df.Changed_Credit_Limit.value_counts().index"
      ],
      "metadata": {
        "colab": {
          "base_uri": "https://localhost:8080/"
        },
        "id": "wDZw3viOSEFi",
        "outputId": "90ddc384-7fac-4824-96fb-9f4393d76d09"
      },
      "execution_count": null,
      "outputs": [
        {
          "output_type": "execute_result",
          "data": {
            "text/plain": [
              "Index(['_', '8.22', '11.5', '11.32', '7.35', '10.06', '8.23', '11.49', '7.69',\n",
              "       '9.25',\n",
              "       ...\n",
              "       '30.1', '23.97', '31.04', '-0.31999999999999995', '-1.91', '-1.84',\n",
              "       '0.8899999999999999', '28.06', '1.5599999999999996', '21.17'],\n",
              "      dtype='object', length=4384)"
            ]
          },
          "metadata": {},
          "execution_count": 12
        }
      ]
    },
    {
      "cell_type": "code",
      "source": [
        "#print the number of duplicated rows\n",
        "duplicated_rows=df.duplicated().sum()\n",
        "print(f'The number of dupllicated rows is {duplicated_rows}')"
      ],
      "metadata": {
        "colab": {
          "base_uri": "https://localhost:8080/"
        },
        "id": "-QaDk1U9jvij",
        "outputId": "e770409e-5e7b-4d2e-a53a-206f37628990"
      },
      "execution_count": null,
      "outputs": [
        {
          "output_type": "stream",
          "name": "stdout",
          "text": [
            "The number of dupllicated rows is 0\n"
          ]
        }
      ]
    },
    {
      "cell_type": "code",
      "source": [
        "#columns with numeric entries sush as Age and Annual Income for example \n",
        "#has strings values. Such columns will need to be converted into numerical types\n",
        "df.dtypes"
      ],
      "metadata": {
        "colab": {
          "base_uri": "https://localhost:8080/"
        },
        "id": "rxV5louzj7KZ",
        "outputId": "a8d94f4c-4e13-4ee1-a741-4a8a18f13611"
      },
      "execution_count": null,
      "outputs": [
        {
          "output_type": "execute_result",
          "data": {
            "text/plain": [
              "ID                           object\n",
              "Customer_ID                  object\n",
              "Month                        object\n",
              "Name                         object\n",
              "Age                          object\n",
              "SSN                          object\n",
              "Occupation                   object\n",
              "Annual_Income                object\n",
              "Monthly_Inhand_Salary       float64\n",
              "Num_Bank_Accounts             int64\n",
              "Num_Credit_Card               int64\n",
              "Interest_Rate                 int64\n",
              "Num_of_Loan                  object\n",
              "Type_of_Loan                 object\n",
              "Delay_from_due_date           int64\n",
              "Num_of_Delayed_Payment       object\n",
              "Changed_Credit_Limit         object\n",
              "Num_Credit_Inquiries        float64\n",
              "Credit_Mix                   object\n",
              "Outstanding_Debt             object\n",
              "Credit_Utilization_Ratio    float64\n",
              "Credit_History_Age           object\n",
              "Payment_of_Min_Amount        object\n",
              "Total_EMI_per_month         float64\n",
              "Amount_invested_monthly      object\n",
              "Payment_Behaviour            object\n",
              "Monthly_Balance              object\n",
              "Credit_Score                 object\n",
              "dtype: object"
            ]
          },
          "metadata": {},
          "execution_count": 14
        }
      ]
    },
    {
      "cell_type": "markdown",
      "source": [
        "### Cleaning data\n",
        "* Copy the dataframe `df` and call the copied version as `df_clean`\n",
        "* Drop the columns: `ID`,`Name`,`SSN`\n",
        "* Replace the characters that pandas does not recognize them as missing values with np.nan:\n",
        "  * `Occupation` has as a value this character '_______'. Replace it with np.nan.\n",
        "  * `Changed_Credit_Limit` has as value this character '_'. Replace it with np.nan.\n",
        "  * `Credit_Mix` has a value this character '_'. Replace it with np.nan\n",
        "* 'NM' value in the column `Payment_of_Min_Amount` can be treated as No\n",
        "* Clean the columns: \n",
        "  * Remove  the unnesessary underscores from columns whose values are numbers. One such example is `Amount_invested_monthly`, where we have `__10000__`. Another example of a column with similar problems is`Num_of_Loan`. \n",
        "  * `Type_of_Loan` has a value which is called 'Not Specified'. However, we will not treat it as a missing value.\n",
        "  * `Credit_History_Age`. Express the values of this column in terms of months.\n",
        "  \n",
        "* Change the data type for the features:\n",
        "  * `Annual_Income`,`Age`,`Num_of_Loan`,`Num_of_Delayed_Payment`,`Changed_Credit_Limit`,`Outstanding_Debt`, `Amount_invested_monthly`,`Monthly_Balance`,`Credit_History_Age`\n",
        "* Check again the number of missing values for each column after completed the above steps. Count the number of rows that have missing values."
      ],
      "metadata": {
        "id": "h5K6OfvFldkA"
      }
    },
    {
      "cell_type": "markdown",
      "source": [
        "* Copy the dataframe"
      ],
      "metadata": {
        "id": "iMyw-Z4yqTMv"
      }
    },
    {
      "cell_type": "code",
      "source": [
        "#copy the dataframe df and call it by df_clean\n",
        "df_clean=df.copy()"
      ],
      "metadata": {
        "id": "EfNH3KvC2OfN"
      },
      "execution_count": null,
      "outputs": []
    },
    {
      "cell_type": "markdown",
      "source": [
        "* Drop the columns `ID`, `Name`, `SSN`"
      ],
      "metadata": {
        "id": "C4vj2L9rqYhl"
      }
    },
    {
      "cell_type": "code",
      "source": [
        "#Drop the columns that we will not use for our analysis\n",
        "def drop_columns(data,columns):\n",
        "  return data.drop(columns=columns)\n",
        "columns=['ID','Name','SSN']\n",
        "df_clean=drop_columns(df_clean,columns)"
      ],
      "metadata": {
        "id": "qPXcGYUL2X1E"
      },
      "execution_count": null,
      "outputs": []
    },
    {
      "cell_type": "code",
      "source": [
        "#Test whether the specified columns have been dropped\n",
        "columns=['ID','Name','SSN']\n",
        "for column in columns:\n",
        "  assert column not in df_clean.columns, f'The column {column} has not been removed'\n",
        "print(\"Passed the test\")"
      ],
      "metadata": {
        "colab": {
          "base_uri": "https://localhost:8080/"
        },
        "id": "NfapuY3_3ZMT",
        "outputId": "f3c70494-0594-4656-b7ce-904f6e0c2cfc"
      },
      "execution_count": null,
      "outputs": [
        {
          "output_type": "stream",
          "name": "stdout",
          "text": [
            "Passed the test\n"
          ]
        }
      ]
    },
    {
      "cell_type": "markdown",
      "source": [
        "* Replace all the characters that pandas does not recognize them as missing values with np.nan."
      ],
      "metadata": {
        "id": "PIVxe_XdqkiQ"
      }
    },
    {
      "cell_type": "code",
      "source": [
        "#Replace the characters that Pandas does not recognize them as\n",
        "# missing values with np.nan\n",
        "def chars_to_nan(data,columns,to_replace):\n",
        "  data[columns]=data[columns].replace(to_replace,np.nan)\n",
        "  return data\n",
        "df_clean=chars_to_nan(df_clean,['Occupation'],'_______')\n",
        "df_clean=chars_to_nan(df_clean,['Changed_Credit_Limit','Credit_Mix'],'_')\n",
        "df_clean=chars_to_nan(df_clean,['Payment_Behaviour'],'!@9#%8')"
      ],
      "metadata": {
        "id": "6nALOnps5pVc"
      },
      "execution_count": null,
      "outputs": []
    },
    {
      "cell_type": "markdown",
      "source": [
        "* Replace 'NM' in `Payment_of_Min_Amount` with 'No'"
      ],
      "metadata": {
        "id": "R1-IWe-E6zfM"
      }
    },
    {
      "cell_type": "code",
      "source": [
        "df_clean['Payment_of_Min_Amount'].value_counts(normalize=True)"
      ],
      "metadata": {
        "colab": {
          "base_uri": "https://localhost:8080/"
        },
        "id": "II7ETC0H6-ha",
        "outputId": "6634514d-65df-4f1b-cc23-fadb14837809"
      },
      "execution_count": null,
      "outputs": [
        {
          "output_type": "execute_result",
          "data": {
            "text/plain": [
              "Yes    0.52326\n",
              "No     0.35667\n",
              "NM     0.12007\n",
              "Name: Payment_of_Min_Amount, dtype: float64"
            ]
          },
          "metadata": {},
          "execution_count": 19
        }
      ]
    },
    {
      "cell_type": "code",
      "source": [
        "df_clean['Payment_of_Min_Amount']=df_clean['Payment_of_Min_Amount'].replace('NM','No')"
      ],
      "metadata": {
        "id": "EXbtlT8e7GFe"
      },
      "execution_count": null,
      "outputs": []
    },
    {
      "cell_type": "markdown",
      "source": [
        "* Remove unnesessary underscores."
      ],
      "metadata": {
        "id": "0_ScK12oqzsA"
      }
    },
    {
      "cell_type": "code",
      "source": [
        "#Remove underscores attaches to numbers from columns descibed below\n",
        "def remove_underscores(data,columns):\n",
        "  data[columns]=data[columns]\\\n",
        "  .apply(lambda x: (x.str.findall('[-]?\\d+[.]?\\d*')).str[0])\n",
        "  return data\n",
        "columns=['Annual_Income','Age','Num_of_Loan','Num_of_Delayed_Payment',\n",
        "      'Changed_Credit_Limit','Outstanding_Debt', \n",
        "      'Amount_invested_monthly','Monthly_Balance']\n",
        "df_clean=remove_underscores(df_clean,columns)"
      ],
      "metadata": {
        "id": "p5sZOrvkB6UK"
      },
      "execution_count": null,
      "outputs": []
    },
    {
      "cell_type": "code",
      "source": [
        "#Test whether the specified columns=['Amount_invested_monthly','Num_of_Loan']\n",
        "#contain underscores\n",
        "columns=['Annual_Income','Age','Num_of_Loan','Num_of_Delayed_Payment',\n",
        "      'Changed_Credit_Limit','Outstanding_Debt', \n",
        "      'Amount_invested_monthly','Monthly_Balance']\n",
        "num_of_uderscores=0\n",
        "for col in columns:\n",
        "  num_of_uderscores+=df_clean[col].str.contains('_').sum()\n",
        "if num_of_uderscores==0:\n",
        "  print('Test passed')\n",
        "else:\n",
        "  print('Test did not pass')"
      ],
      "metadata": {
        "colab": {
          "base_uri": "https://localhost:8080/"
        },
        "id": "Er91YWqVQx5b",
        "outputId": "c33fb54b-9192-430c-ed46-21f9e8a8545e"
      },
      "execution_count": null,
      "outputs": [
        {
          "output_type": "stream",
          "name": "stdout",
          "text": [
            "Test passed\n"
          ]
        }
      ]
    },
    {
      "cell_type": "markdown",
      "source": [
        "* Express the values of `Credit_Hisotry_Age` in terms of the same unit (months)"
      ],
      "metadata": {
        "id": "EQqVCBDpvqbU"
      }
    },
    {
      "cell_type": "code",
      "source": [
        "#Express the values in the column Credit_History_Age in terms of number of months\n",
        "def to_months(x):\n",
        "  if not isinstance(x,np.float):\n",
        "    if len(x)>1:\n",
        "      return int(x[0])*12+int(x[1])\n",
        "    else:\n",
        "       return int(x[0])*12\n",
        "  else:\n",
        "   return  x\n",
        "df_clean.Credit_History_Age=df_clean.Credit_History_Age.str.findall('\\d+')\\\n",
        ".apply(to_months)"
      ],
      "metadata": {
        "colab": {
          "base_uri": "https://localhost:8080/"
        },
        "id": "8W22AmlLXxIy",
        "outputId": "d1056c23-8bd4-403b-d6f9-670ff6f47ac9"
      },
      "execution_count": null,
      "outputs": [
        {
          "output_type": "stream",
          "name": "stderr",
          "text": [
            "/usr/local/lib/python3.7/dist-packages/ipykernel_launcher.py:3: DeprecationWarning: `np.float` is a deprecated alias for the builtin `float`. To silence this warning, use `float` by itself. Doing this will not modify any behavior and is safe. If you specifically wanted the numpy scalar type, use `np.float64` here.\n",
            "Deprecated in NumPy 1.20; for more details and guidance: https://numpy.org/devdocs/release/1.20.0-notes.html#deprecations\n",
            "  This is separate from the ipykernel package so we can avoid doing imports until\n"
          ]
        }
      ]
    },
    {
      "cell_type": "code",
      "source": [
        "#Test whether the column Credit_History_Age has numbers now.\n",
        "df_clean.Credit_History_Age.head()"
      ],
      "metadata": {
        "colab": {
          "base_uri": "https://localhost:8080/"
        },
        "id": "zUgZRqIrX6WM",
        "outputId": "2487e1bd-1421-410c-b33b-6356b6b345a3"
      },
      "execution_count": null,
      "outputs": [
        {
          "output_type": "execute_result",
          "data": {
            "text/plain": [
              "0    265.0\n",
              "1      NaN\n",
              "2    267.0\n",
              "3    268.0\n",
              "4    269.0\n",
              "Name: Credit_History_Age, dtype: float64"
            ]
          },
          "metadata": {},
          "execution_count": 24
        }
      ]
    },
    {
      "cell_type": "markdown",
      "source": [
        "\n",
        "\n",
        "* Below we compute how many records have 'Not Specified' type of loans."
      ],
      "metadata": {
        "id": "U74iTQm3kAZV"
      }
    },
    {
      "cell_type": "code",
      "source": [
        "#Compute how many records have 'Not Specified' loans\n",
        "index_not_na=~df_clean['Type_of_Loan'].isna()\n",
        "new_index=df_clean.loc[index_not_na,'Type_of_Loan'].str.contains('Not Specified')\n",
        "not_specified=df_clean.loc[index_not_na,'Type_of_Loan'].loc[new_index]\n",
        "print(f\"The number of 'Not Specified' loans is {not_specified.shape[0]} \")\n",
        "print('\\n')\n",
        "print('Sample dataframe of \"Not Specified\" loans')\n",
        "print(not_specified.head())\n",
        "\n"
      ],
      "metadata": {
        "colab": {
          "base_uri": "https://localhost:8080/"
        },
        "id": "hnjv5fWvUgKx",
        "outputId": "4c5e422d-11a5-45b3-ddee-149e6a5f5391"
      },
      "execution_count": null,
      "outputs": [
        {
          "output_type": "stream",
          "name": "stdout",
          "text": [
            "The number of 'Not Specified' loans is 31680 \n",
            "\n",
            "\n",
            "Sample dataframe of \"Not Specified\" loans\n",
            "16    Auto Loan, Auto Loan, and Not Specified\n",
            "17    Auto Loan, Auto Loan, and Not Specified\n",
            "18    Auto Loan, Auto Loan, and Not Specified\n",
            "19    Auto Loan, Auto Loan, and Not Specified\n",
            "20    Auto Loan, Auto Loan, and Not Specified\n",
            "Name: Type_of_Loan, dtype: object\n"
          ]
        }
      ]
    },
    {
      "cell_type": "markdown",
      "source": [
        "* Let's compute how many records have \n",
        " **only** 'Non Specified' type of loan."
      ],
      "metadata": {
        "id": "kwb0VdPR9ECS"
      }
    },
    {
      "cell_type": "code",
      "source": [
        "not_specified=df_clean.loc[index_not_na,'Type_of_Loan'].loc[new_index]\n",
        "idx=(not_specified.str.split(',').str.len()==1)\n",
        "print(f\"The number of records with only 'Not Specified' type \\\n",
        "of loan is {not_specified.loc[idx].shape[0]}\")\n",
        "print('\\n')\n",
        "print(\"Sample of records with 'Not Specified' type of loan:\")\n",
        "print(not_specified.loc[idx].head(5))"
      ],
      "metadata": {
        "colab": {
          "base_uri": "https://localhost:8080/"
        },
        "id": "k6bRFPNWsHJX",
        "outputId": "7e5e2890-dda1-4c17-ab0a-419a4d1f80bf"
      },
      "execution_count": null,
      "outputs": [
        {
          "output_type": "stream",
          "name": "stdout",
          "text": [
            "The number of records with only 'Not Specified' type of loan is 1408\n",
            "\n",
            "\n",
            "Sample of records with 'Not Specified' type of loan:\n",
            "24    Not Specified\n",
            "25    Not Specified\n",
            "26    Not Specified\n",
            "27    Not Specified\n",
            "28    Not Specified\n",
            "Name: Type_of_Loan, dtype: object\n"
          ]
        }
      ]
    },
    {
      "cell_type": "markdown",
      "source": [
        "**Comment.** 31680 loans out of (10000-#missing values=98592) loans are of 'Not Specified' types. 1408 records have only 'Not Specified' type. It is tempting to consider 'Not Specified' as a missing value but we will not take this path since almost 40% of records are of 'Not Specified type'. It must cary some specific meaning."
      ],
      "metadata": {
        "id": "kJgRiLC7_JpW"
      }
    },
    {
      "cell_type": "markdown",
      "source": [
        "* Convert the types of some columns (described below) to numerical ones."
      ],
      "metadata": {
        "id": "Ku9yEUVDcs8J"
      }
    },
    {
      "cell_type": "code",
      "source": [
        "#Change the dtypes of some columns (described below) from object \n",
        "#to 'float' for example\n",
        "def cast(data,columns,dtype='float'):\n",
        "  data[columns]=data[columns].astype(dtype)\n",
        "  return data\n",
        "\n",
        "cols=['Annual_Income','Age','Num_of_Loan','Num_of_Delayed_Payment',\n",
        "      'Changed_Credit_Limit','Outstanding_Debt', \n",
        "      'Amount_invested_monthly','Monthly_Balance','Credit_History_Age']\n",
        "df_clean=cast(df_clean,cols)\n"
      ],
      "metadata": {
        "id": "j5dneuNXZqM2"
      },
      "execution_count": null,
      "outputs": []
    },
    {
      "cell_type": "markdown",
      "source": [
        "* Check the number of missing values again."
      ],
      "metadata": {
        "id": "upB68FA7CVG-"
      }
    },
    {
      "cell_type": "code",
      "source": [
        "#Number of missing values\n",
        "num_na=df_clean.isna().any(axis=1).sum()/df_clean.shape[0]*100\n",
        "print(f'{int(num_na)}% of rows have missing values !')"
      ],
      "metadata": {
        "colab": {
          "base_uri": "https://localhost:8080/"
        },
        "id": "6H4EJY8WxGkS",
        "outputId": "00e3fc65-949a-4e72-9cf2-85a86ab560fb"
      },
      "execution_count": null,
      "outputs": [
        {
          "output_type": "stream",
          "name": "stdout",
          "text": [
            "60% of rows have missing values !\n"
          ]
        }
      ]
    },
    {
      "cell_type": "code",
      "source": [
        "missingno.matrix(df_clean);"
      ],
      "metadata": {
        "colab": {
          "base_uri": "https://localhost:8080/",
          "height": 399
        },
        "id": "WaGdICUsNX2J",
        "outputId": "27b3e0ea-3deb-4e0b-b4ef-2b38b3ea35c2"
      },
      "execution_count": null,
      "outputs": [
        {
          "output_type": "display_data",
          "data": {
            "text/plain": [
              "<Figure size 1800x720 with 2 Axes>"
            ],
            "image/png": "[encoded data removed]"
          },
          "metadata": {}
        }
      ]
    },
    {
      "cell_type": "markdown",
      "source": [
        "* The result above confirms that deleting all the rows that have missing values is not a good idea.\n",
        "* Before we proceed to impute the columns with missing values, let's  visualize our data first."
      ],
      "metadata": {
        "id": "Bg6ZQwPn0_k1"
      }
    },
    {
      "cell_type": "markdown",
      "source": [
        "### Visualize Data\n",
        "  * Univariate distributions:\n",
        "    * Check the distribution of `Credit_Score`\n",
        "    * Use a histogram for numerical features   to see whether  their distributiions are skewed or not.\n",
        "    \n",
        "  * Bivariate distributions:\n",
        "    * Check which numerical features could possibly affect `Credit_Score`\n",
        "    * Check whether the numerical features are correlated to each other."
      ],
      "metadata": {
        "id": "yR-gHuZQ1gzG"
      }
    },
    {
      "cell_type": "code",
      "source": [
        "#find numerical and categorical features\n",
        "#Create a dataframe with nuumerical or categorical features only\n",
        "mask=df_clean.dtypes=='object'\n",
        "cat_cols=df_clean.columns[mask]#categorical columns\n",
        "num_cols=df_clean.columns[~mask] #numerical columns\n",
        "df_num=df_clean[num_cols]\n",
        "df_cat=df_clean[cat_cols]"
      ],
      "metadata": {
        "id": "Gkkr5M8JqMFE"
      },
      "execution_count": null,
      "outputs": []
    },
    {
      "cell_type": "markdown",
      "source": [
        "* **Univariate Distributions**"
      ],
      "metadata": {
        "id": "kQVjfjKIp57Q"
      }
    },
    {
      "cell_type": "markdown",
      "source": [
        "* Distribution of `Credit_Score`"
      ],
      "metadata": {
        "id": "lUd-lncq-E5z"
      }
    },
    {
      "cell_type": "code",
      "source": [
        "\n",
        "plt.figure(figsize=(4,4.5))\n",
        "rel_freq=df_clean['Credit_Score'].value_counts(normalize=True,ascending=False)*100\n",
        "rel_freq.plot(kind='bar',rot=45)\n",
        "for i in range(rel_freq.shape[0]):\n",
        "    plt.text(i,rel_freq.iloc[i]+0.5,str(round(rel_freq.iloc[i],1))+\"%\",\n",
        "             ha=\"center\",va=\"bottom\",color=\"g\")\n",
        "plt.ylabel('Relative Frequancy',color='blue')\n",
        "plt.xlabel('Credit_Score',color='blue')\n",
        "plt.title('Distribution of Credit_Score',color='blue');"
      ],
      "metadata": {
        "colab": {
          "base_uri": "https://localhost:8080/",
          "height": 347
        },
        "id": "O88_txx5-XAG",
        "outputId": "0978326a-71ce-4eb8-f834-d813cb8a5bbc"
      },
      "execution_count": null,
      "outputs": [
        {
          "output_type": "display_data",
          "data": {
            "text/plain": [
              "<Figure size 288x324 with 1 Axes>"
            ],
            "image/png": "[encoded data removed]"
          },
          "metadata": {}
        }
      ]
    },
    {
      "cell_type": "markdown",
      "source": [
        "* **Conclusion** `Credit_Score` is imbalanced."
      ],
      "metadata": {
        "id": "ss23OZC-EfFl"
      }
    },
    {
      "cell_type": "markdown",
      "source": [
        "* Create the function called `make_hist_log` to visualize some numerical features before and after the log transformation is appplied to them."
      ],
      "metadata": {
        "id": "jsyKgISFQnH9"
      }
    },
    {
      "cell_type": "code",
      "source": [
        "def make_hist_log(data,column,bin_1,bin_2):\n",
        "  fig,ax=plt.subplots(1,2,figsize=(9,4))\n",
        "  dic={0:'before',1:'after'}\n",
        "  log={0:False,1:True}\n",
        "  bins=[bin_1,bin_2]\n",
        "  for i in range(2):\n",
        "    sns.histplot(data,x=column,\n",
        "                 log_scale=log[i],bins=bins[i],ax=ax[i])\n",
        "    ax[i].set_title(f'Distribution of {column} \\n {dic[i]} log transformation',\n",
        "                    color='blue')\n",
        "    ax[i].set_xlabel(f\"{column}\",color='blue')\n",
        "    ax[i].set_ylabel(f\"Frequency of {column}\",color='blue')\n",
        "  plt.subplots_adjust(wspace=0.5)\n",
        "\n",
        "\n"
      ],
      "metadata": {
        "id": "WqqWWSG3j0J4"
      },
      "execution_count": null,
      "outputs": []
    },
    {
      "cell_type": "markdown",
      "source": [
        "* Visualize `Annual_Inome` before and after a log transformation is applied."
      ],
      "metadata": {
        "id": "p6olIHDzH9zf"
      }
    },
    {
      "cell_type": "code",
      "source": [
        "make_hist_log(data=df_clean,column='Annual_Income',bin_1=3,bin_2=20)"
      ],
      "metadata": {
        "colab": {
          "base_uri": "https://localhost:8080/",
          "height": 312
        },
        "id": "lRwkbXitmn3d",
        "outputId": "43dff4d5-8498-401f-9918-47173ed19f39"
      },
      "execution_count": null,
      "outputs": [
        {
          "output_type": "display_data",
          "data": {
            "text/plain": [
              "<Figure size 648x288 with 2 Axes>"
            ],
            "image/png": "[encoded data removed]"
          },
          "metadata": {}
        }
      ]
    },
    {
      "cell_type": "markdown",
      "source": [
        "* Visulaize `Monthly_Inhand_Salary` before and after a log transformation is applied."
      ],
      "metadata": {
        "id": "d-2BHxVSQxjp"
      }
    },
    {
      "cell_type": "code",
      "source": [
        "make_hist_log(df_clean,'Monthly_Inhand_Salary',5,20)"
      ],
      "metadata": {
        "colab": {
          "base_uri": "https://localhost:8080/",
          "height": 312
        },
        "id": "TUH2t-gerBrd",
        "outputId": "399f349c-62b4-44d3-f5b4-6606f532362b"
      },
      "execution_count": null,
      "outputs": [
        {
          "output_type": "display_data",
          "data": {
            "text/plain": [
              "<Figure size 648x288 with 2 Axes>"
            ],
            "image/png": "[encoded data removed]"
          },
          "metadata": {}
        }
      ]
    },
    {
      "cell_type": "markdown",
      "source": [
        "* Visualize `Monthly_Balance` before and after a log transformation is applied."
      ],
      "metadata": {
        "id": "EVKI68ZWuEIz"
      }
    },
    {
      "cell_type": "code",
      "source": [
        "make_hist_log(df_clean,'Monthly_Balance',3,20);"
      ],
      "metadata": {
        "colab": {
          "base_uri": "https://localhost:8080/",
          "height": 367
        },
        "id": "3HS6BsKVs4gr",
        "outputId": "77eb6bcb-d85b-4b37-8269-767fcc1981e2"
      },
      "execution_count": null,
      "outputs": [
        {
          "output_type": "stream",
          "name": "stderr",
          "text": [
            "/usr/local/lib/python3.7/dist-packages/pandas/core/arraylike.py:364: RuntimeWarning: invalid value encountered in log10\n",
            "  result = getattr(ufunc, method)(*inputs, **kwargs)\n"
          ]
        },
        {
          "output_type": "display_data",
          "data": {
            "text/plain": [
              "<Figure size 648x288 with 2 Axes>"
            ],
            "image/png": "[encoded data removed]"
          },
          "metadata": {}
        }
      ]
    },
    {
      "cell_type": "markdown",
      "source": [
        "* **Conclusion**. The above plots clearly indicate that some features are highly skewed. After applying a log transofrmation they become more symmetrical.\n"
      ],
      "metadata": {
        "id": "KFo_eQ0Rv8Xa"
      }
    },
    {
      "cell_type": "markdown",
      "source": [
        "* We already know that a log transformation cannot be applied to features that have negative values or zeros. This situation can be fixed by applying [Yeo-Johnson transformation](https://statisticaloddsandends.wordpress.com/2021/02/19/the-box-cox-and-yeo-johnson-transformations-for-continuous-variables/) which is an extension of log transformation. The scikit-learn library privides us with this transfromation."
      ],
      "metadata": {
        "id": "gqk4PlRV152N"
      }
    },
    {
      "cell_type": "markdown",
      "source": [
        "* Visualize `Amount_invested_monhly` before and after applying Yeo-Johnson transformation."
      ],
      "metadata": {
        "id": "N6woGpbY2Cyj"
      }
    },
    {
      "cell_type": "code",
      "source": [
        "fig,ax=plt.subplots(1,2,figsize=(9,4))\n",
        "ax[0].hist(df_clean['Amount_invested_monthly'],bins=10)\n",
        "ax[0].set_title('Distribution of Amount_invested_monthly \\n \\\n",
        " before the transformation',color='blue')\n",
        "ax[0].set_xlabel('Amount_invested_monthly',color='blue')\n",
        "ax[0].set_ylabel('Frequency',color='blue')\n",
        "transformer=PowerTransformer()\n",
        "new_feature=transformer.fit_transform(df_clean[['Amount_invested_monthly']])\n",
        "ax[1].hist(new_feature,bins=10)\n",
        "ax[1].set_title('Distribution of Amount_invested_monthly \\n \\\n",
        " after the transformation',color='blue')\n",
        "ax[1].set_xlabel('Amount_invested_monthly',color='blue')\n",
        "ax[1].set_ylabel('Frequency',color='blue')\n",
        "plt.subplots_adjust(wspace=0.5)"
      ],
      "metadata": {
        "colab": {
          "base_uri": "https://localhost:8080/",
          "height": 308
        },
        "id": "wHHx4BmK2vIb",
        "outputId": "3ab53d2e-24a5-4283-ecff-1c4865d25aef"
      },
      "execution_count": null,
      "outputs": [
        {
          "output_type": "display_data",
          "data": {
            "text/plain": [
              "<Figure size 648x288 with 2 Axes>"
            ],
            "image/png": "[encoded data removed]"
          },
          "metadata": {}
        }
      ]
    },
    {
      "cell_type": "markdown",
      "source": [
        "* **Conclusion.** The feature `Amount_invested_monthly` becomes more symmetric after applying Yeo-Johnson transformation"
      ],
      "metadata": {
        "id": "_IJvGEKU9M6I"
      }
    },
    {
      "cell_type": "markdown",
      "source": [
        "* **Biavariate Distributions**"
      ],
      "metadata": {
        "id": "WA-E1s_fEx0q"
      }
    },
    {
      "cell_type": "markdown",
      "source": [
        "* Let's check the relationship between `Cedit_Score` and `Num_of_Loan`."
      ],
      "metadata": {
        "id": "85jdcq2SM2HT"
      }
    },
    {
      "cell_type": "code",
      "source": [
        "fig,ax=plt.subplots(1,2,figsize=(7,3))\n",
        "df_clean.groupby(by=['Credit_Score']).agg({'Num_of_Loan':[np.mean,np.median]})\\\n",
        ".plot(kind='bar',subplots=True,legend=False,ax=ax,rot=45)\n",
        "ax[0].set_ylabel('Average number of loans',color='blue')\n",
        "ax[0].set_xlabel('Levels of Credit_Score',color='blue')\n",
        "ax[0].set_title('Average Num_of_Loan vs Credit_Score',color='blue')\n",
        "ax[1].set_ylabel('Median number of loans',color='green')\n",
        "ax[1].set_xlabel('Levels of Credit_Score',color='green')\n",
        "ax[1].set_title('Median Num_of_Loan vs Credit_Score',color='green')\n",
        "plt.subplots_adjust(wspace=0.5)"
      ],
      "metadata": {
        "colab": {
          "base_uri": "https://localhost:8080/",
          "height": 266
        },
        "id": "rrzckYWmGovC",
        "outputId": "179711ef-463f-430c-c186-2ae0aa91c3b6"
      },
      "execution_count": null,
      "outputs": [
        {
          "output_type": "display_data",
          "data": {
            "text/plain": [
              "<Figure size 504x216 with 2 Axes>"
            ],
            "image/png": "[encoded data removed]"
          },
          "metadata": {}
        }
      ]
    },
    {
      "cell_type": "markdown",
      "source": [
        "* **Conclusion.** `Num_of_loans` might affect `credit_score`"
      ],
      "metadata": {
        "id": "mo8PnFsAQYKg"
      }
    },
    {
      "cell_type": "markdown",
      "source": [
        "* Check if `Monthly_Inhand_Salary` and `Monthly_Balance` related to `Credit_Score` using a boxplot and a pointplot respectively"
      ],
      "metadata": {
        "id": "X6TV4ym0S2pZ"
      }
    },
    {
      "cell_type": "code",
      "source": [
        "fig,ax=plt.subplots(1,2,figsize=(10,3))\n",
        "sns.boxplot(data=df_clean,y='Monthly_Inhand_Salary',x='Credit_Score'\n",
        "               ,ax=ax[0])\n",
        "ax[0].set_title('Monthly_Inhand_Salary vs Credit_Score',color='blue')\n",
        "ax[0].set_xlabel('Levels of Credit_Score',color='blue')\n",
        "ax[0].set_ylabel('Monthly_Inhand_Salary',color='blue')\n",
        "\n",
        "sns.pointplot(data=df_clean,y='Interest_Rate',x='Credit_Score',ax=ax[1],\n",
        "              join=False,estimator=np.median)\n",
        "ax[1].set_title('Interest_Rate vs Credit_Score',color='blue')\n",
        "ax[1].set_ylabel('Median Interest_Rate',color='blue')\n",
        "ax[1].set_xlabel('Levels of Credit_Score',color='blue')\n",
        "plt.subplots_adjust(wspace=0.5)"
      ],
      "metadata": {
        "colab": {
          "base_uri": "https://localhost:8080/",
          "height": 240
        },
        "id": "BX6L-MJ6IzdX",
        "outputId": "d087ab3f-1d81-4536-9954-56334a795c7c"
      },
      "execution_count": null,
      "outputs": [
        {
          "output_type": "display_data",
          "data": {
            "text/plain": [
              "<Figure size 720x216 with 2 Axes>"
            ],
            "image/png": "[encoded data removed]"
          },
          "metadata": {}
        }
      ]
    },
    {
      "cell_type": "markdown",
      "source": [
        "* **Conclusion.** There is a clear relationship between `Interest_Rate` and `Credit_Score`"
      ],
      "metadata": {
        "id": "G1-KXgpqZ4wu"
      }
    },
    {
      "cell_type": "markdown",
      "source": [
        "* Let's check if numerical features related to each other. Since we have many of them, we will choose only few: `'Annual_Income`,`Outstanding_Debt`,`Monthly_Inhand_Salary`,\n",
        "`Amount_invested_monthly`.\n",
        "  * We will use sns.pairplot() to visualize the relationshipss.\n",
        "  * Then we will use heatmap to confirm whether the features related linearly or not."
      ],
      "metadata": {
        "id": "Wh0yjE8dga7H"
      }
    },
    {
      "cell_type": "code",
      "source": [
        "vars=['Annual_Income','Outstanding_Debt','Monthly_Inhand_Salary',\n",
        "      'Amount_invested_monthly']\n",
        "sns.pairplot(data=df_clean,vars=vars,height=2);"
      ],
      "metadata": {
        "colab": {
          "base_uri": "https://localhost:8080/",
          "height": 585
        },
        "id": "W3FUq4L5bGzg",
        "outputId": "9b6821ab-d2b4-490c-e954-f753009d4482"
      },
      "execution_count": null,
      "outputs": [
        {
          "output_type": "display_data",
          "data": {
            "text/plain": [
              "<Figure size 576x576 with 20 Axes>"
            ],
            "image/png": "[encoded data removed]"
          },
          "metadata": {}
        }
      ]
    },
    {
      "cell_type": "markdown",
      "source": [
        "* **Conclusion.** It seems that there is no linear relationships between the aforementioned features.\n",
        "* The heatmap below confirms this observation."
      ],
      "metadata": {
        "id": "QzRnVm9whgSI"
      }
    },
    {
      "cell_type": "code",
      "source": [
        "plt.figure(figsize=(4,4))\n",
        "cor=df_clean[vars].corr()\n",
        "sns.heatmap(cor,annot=True,cmap='plasma')"
      ],
      "metadata": {
        "colab": {
          "base_uri": "https://localhost:8080/",
          "height": 394
        },
        "id": "fk4dhdGqcHDI",
        "outputId": "e7f63737-f7ca-4e7a-eb78-cc74210aa2f9"
      },
      "execution_count": null,
      "outputs": [
        {
          "output_type": "execute_result",
          "data": {
            "text/plain": [
              "<matplotlib.axes._subplots.AxesSubplot at 0x7f6bc3d56e50>"
            ]
          },
          "metadata": {},
          "execution_count": 105
        },
        {
          "output_type": "display_data",
          "data": {
            "text/plain": [
              "<Figure size 288x288 with 2 Axes>"
            ],
            "image/png": "[encoded data removed]"
          },
          "metadata": {}
        }
      ]
    },
    {
      "cell_type": "markdown",
      "source": [
        "### Dealing with missing values"
      ],
      "metadata": {
        "id": "G-hwKMYU8TzR"
      }
    },
    {
      "cell_type": "markdown",
      "source": [
        "**Categorical Features**\n",
        "\n",
        "* We will impute the categorical features using Customers_IDs. Note that the Customer_ID's here come in groups of 8, i.e., each distinct one appears only 8 times. This is confirmed below."
      ],
      "metadata": {
        "id": "hP0TZcV4XDAT"
      }
    },
    {
      "cell_type": "code",
      "source": [
        "num=(df_clean['Customer_ID'].value_counts()!=8).sum() #counts how many times each distinct \n",
        "#Customer_ID appears more than 8 times or less than 8 times.\n",
        "\n",
        "print(f\"The number of times each Customer_ID appears \\\n",
        "different from 8 times is {num}\")\n",
        "\n",
        "cust_index=df_clean['Customer_ID'].value_counts().index\n",
        "print(\"An example of a group  of 8 of Customer_IDs \")\n",
        "print('\\n')\n",
        "df_clean.set_index('Customer_ID').loc[cust_index[0],['Age','Month','Occupation','Credit_Score']]"
      ],
      "metadata": {
        "colab": {
          "base_uri": "https://localhost:8080/",
          "height": 401
        },
        "id": "KITgseIeXplo",
        "outputId": "5436e2c4-9ace-460a-fd24-da25694450bc"
      },
      "execution_count": null,
      "outputs": [
        {
          "output_type": "stream",
          "name": "stdout",
          "text": [
            "The number of times each Customer_ID appears different from 8 times is 0\n",
            "An example of a group  of 8 of Customer_IDs \n",
            "\n",
            "\n"
          ]
        },
        {
          "output_type": "execute_result",
          "data": {
            "text/plain": [
              "               Age     Month Occupation Credit_Score\n",
              "Customer_ID                                         \n",
              "CUS_0xd40     23.0   January  Scientist         Good\n",
              "CUS_0xd40     23.0  February  Scientist         Good\n",
              "CUS_0xd40   -500.0     March  Scientist         Good\n",
              "CUS_0xd40     23.0     April  Scientist         Good\n",
              "CUS_0xd40     23.0       May  Scientist         Good\n",
              "CUS_0xd40     23.0      June  Scientist         Good\n",
              "CUS_0xd40     23.0      July  Scientist         Good\n",
              "CUS_0xd40     23.0    August  Scientist     Standard"
            ],
            "text/html": [
              "\n",
              "  <div id=\"df-5c408a4e-f35e-4cad-b111-d68cd15557cf\">\n",
              "    <div class=\"colab-df-container\">\n",
              "      <div>\n",
              "<style scoped>\n",
              "    .dataframe tbody tr th:only-of-type {\n",
              "        vertical-align: middle;\n",
              "    }\n",
              "\n",
              "    .dataframe tbody tr th {\n",
              "        vertical-align: top;\n",
              "    }\n",
              "\n",
              "    .dataframe thead th {\n",
              "        text-align: right;\n",
              "    }\n",
              "</style>\n",
              "<table border=\"1\" class=\"dataframe\">\n",
              "  <thead>\n",
              "    <tr style=\"text-align: right;\">\n",
              "      <th></th>\n",
              "      <th>Age</th>\n",
              "      <th>Month</th>\n",
              "      <th>Occupation</th>\n",
              "      <th>Credit_Score</th>\n",
              "    </tr>\n",
              "    <tr>\n",
              "      <th>Customer_ID</th>\n",
              "      <th></th>\n",
              "      <th></th>\n",
              "      <th></th>\n",
              "      <th></th>\n",
              "    </tr>\n",
              "  </thead>\n",
              "  <tbody>\n",
              "    <tr>\n",
              "      <th>CUS_0xd40</th>\n",
              "      <td>23.0</td>\n",
              "      <td>January</td>\n",
              "      <td>Scientist</td>\n",
              "      <td>Good</td>\n",
              "    </tr>\n",
              "    <tr>\n",
              "      <th>CUS_0xd40</th>\n",
              "      <td>23.0</td>\n",
              "      <td>February</td>\n",
              "      <td>Scientist</td>\n",
              "      <td>Good</td>\n",
              "    </tr>\n",
              "    <tr>\n",
              "      <th>CUS_0xd40</th>\n",
              "      <td>-500.0</td>\n",
              "      <td>March</td>\n",
              "      <td>Scientist</td>\n",
              "      <td>Good</td>\n",
              "    </tr>\n",
              "    <tr>\n",
              "      <th>CUS_0xd40</th>\n",
              "      <td>23.0</td>\n",
              "      <td>April</td>\n",
              "      <td>Scientist</td>\n",
              "      <td>Good</td>\n",
              "    </tr>\n",
              "    <tr>\n",
              "      <th>CUS_0xd40</th>\n",
              "      <td>23.0</td>\n",
              "      <td>May</td>\n",
              "      <td>Scientist</td>\n",
              "      <td>Good</td>\n",
              "    </tr>\n",
              "    <tr>\n",
              "      <th>CUS_0xd40</th>\n",
              "      <td>23.0</td>\n",
              "      <td>June</td>\n",
              "      <td>Scientist</td>\n",
              "      <td>Good</td>\n",
              "    </tr>\n",
              "    <tr>\n",
              "      <th>CUS_0xd40</th>\n",
              "      <td>23.0</td>\n",
              "      <td>July</td>\n",
              "      <td>Scientist</td>\n",
              "      <td>Good</td>\n",
              "    </tr>\n",
              "    <tr>\n",
              "      <th>CUS_0xd40</th>\n",
              "      <td>23.0</td>\n",
              "      <td>August</td>\n",
              "      <td>Scientist</td>\n",
              "      <td>Standard</td>\n",
              "    </tr>\n",
              "  </tbody>\n",
              "</table>\n",
              "</div>\n",
              "      <button class=\"colab-df-convert\" onclick=\"convertToInteractive('df-5c408a4e-f35e-4cad-b111-d68cd15557cf')\"\n",
              "              title=\"Convert this dataframe to an interactive table.\"\n",
              "              style=\"display:none;\">\n",
              "        \n",
              "  <svg xmlns=\"http://www.w3.org/2000/svg\" height=\"24px\"viewBox=\"0 0 24 24\"\n",
              "       width=\"24px\">\n",
              "    <path d=\"M0 0h24v24H0V0z\" fill=\"none\"/>\n",
              "    <path d=\"M18.56 5.44l.94 2.06.94-2.06 2.06-.94-2.06-.94-.94-2.06-.94 2.06-2.06.94zm-11 1L8.5 8.5l.94-2.06 2.06-.94-2.06-.94L8.5 2.5l-.94 2.06-2.06.94zm10 10l.94 2.06.94-2.06 2.06-.94-2.06-.94-.94-2.06-.94 2.06-2.06.94z\"/><path d=\"M17.41 7.96l-1.37-1.37c-.4-.4-.92-.59-1.43-.59-.52 0-1.04.2-1.43.59L10.3 9.45l-7.72 7.72c-.78.78-.78 2.05 0 2.83L4 21.41c.39.39.9.59 1.41.59.51 0 1.02-.2 1.41-.59l7.78-7.78 2.81-2.81c.8-.78.8-2.07 0-2.86zM5.41 20L4 18.59l7.72-7.72 1.47 1.35L5.41 20z\"/>\n",
              "  </svg>\n",
              "      </button>\n",
              "      \n",
              "  <style>\n",
              "    .colab-df-container {\n",
              "      display:flex;\n",
              "      flex-wrap:wrap;\n",
              "      gap: 12px;\n",
              "    }\n",
              "\n",
              "    .colab-df-convert {\n",
              "      background-color: #E8F0FE;\n",
              "      border: none;\n",
              "      border-radius: 50%;\n",
              "      cursor: pointer;\n",
              "      display: none;\n",
              "      fill: #1967D2;\n",
              "      height: 32px;\n",
              "      padding: 0 0 0 0;\n",
              "      width: 32px;\n",
              "    }\n",
              "\n",
              "    .colab-df-convert:hover {\n",
              "      background-color: #E2EBFA;\n",
              "      box-shadow: 0px 1px 2px rgba(60, 64, 67, 0.3), 0px 1px 3px 1px rgba(60, 64, 67, 0.15);\n",
              "      fill: #174EA6;\n",
              "    }\n",
              "\n",
              "    [theme=dark] .colab-df-convert {\n",
              "      background-color: #3B4455;\n",
              "      fill: #D2E3FC;\n",
              "    }\n",
              "\n",
              "    [theme=dark] .colab-df-convert:hover {\n",
              "      background-color: #434B5C;\n",
              "      box-shadow: 0px 1px 3px 1px rgba(0, 0, 0, 0.15);\n",
              "      filter: drop-shadow(0px 1px 2px rgba(0, 0, 0, 0.3));\n",
              "      fill: #FFFFFF;\n",
              "    }\n",
              "  </style>\n",
              "\n",
              "      <script>\n",
              "        const buttonEl =\n",
              "          document.querySelector('#df-5c408a4e-f35e-4cad-b111-d68cd15557cf button.colab-df-convert');\n",
              "        buttonEl.style.display =\n",
              "          google.colab.kernel.accessAllowed ? 'block' : 'none';\n",
              "\n",
              "        async function convertToInteractive(key) {\n",
              "          const element = document.querySelector('#df-5c408a4e-f35e-4cad-b111-d68cd15557cf');\n",
              "          const dataTable =\n",
              "            await google.colab.kernel.invokeFunction('convertToInteractive',\n",
              "                                                     [key], {});\n",
              "          if (!dataTable) return;\n",
              "\n",
              "          const docLinkHtml = 'Like what you see? Visit the ' +\n",
              "            '<a target=\"_blank\" href=https://colab.research.google.com/notebooks/data_table.ipynb>data table notebook</a>'\n",
              "            + ' to learn more about interactive tables.';\n",
              "          element.innerHTML = '';\n",
              "          dataTable['output_type'] = 'display_data';\n",
              "          await google.colab.output.renderOutput(dataTable, element);\n",
              "          const docLink = document.createElement('div');\n",
              "          docLink.innerHTML = docLinkHtml;\n",
              "          element.appendChild(docLink);\n",
              "        }\n",
              "      </script>\n",
              "    </div>\n",
              "  </div>\n",
              "  "
            ]
          },
          "metadata": {},
          "execution_count": 39
        }
      ]
    },
    {
      "cell_type": "markdown",
      "source": [
        "* The imputation of missing values of categorical features will be accomplished in two steps.\n",
        "  * **Step 1.** Use bfill parameter of the method pd.DataFrame.fillna(method='bfill') to impute the missing values with the values from the next row\n",
        "  * **Step 2.** Use ffill parameter of the method pd.DataFrame.fillna(method='ffill') to impute the missing values with the values from the previous row\n",
        "*  We have created the function `inpute_cat` to accomplish this task."
      ],
      "metadata": {
        "id": "9ekBfsSZfwaP"
      }
    },
    {
      "cell_type": "code",
      "source": [
        "def impute_cat(data,column):\n",
        "  #Step 1-->Use bfill: Look at the values of the next row\n",
        "  indices=data[column].isna()\n",
        "  cust_ids=data.loc[indices]['Customer_ID'].values\n",
        "  cust_ids=np.unique(cust_ids)\n",
        "  for cust in cust_ids:\n",
        "     #bfill within each customer_id group\n",
        "     mask=df_clean['Customer_ID']==cust\n",
        "     data.loc[mask,column]=data.loc[mask,column].fillna(method='bfill')\n",
        "#Check the number of missing values in column after step 1\n",
        "  num=data[column].isna().sum()\n",
        "  print(f'# of missing values in {column} after step 1 is {num}')\n",
        "  if num==0:\n",
        "    print('The imputing process is finished !')\n",
        "    return data\n",
        "    #step 2--> Use ffill:Look for the value of the prefious row\n",
        "  else:\n",
        "    indices=data[column].isna()\n",
        "    cust_ids=df_clean.loc[indices]['Customer_ID'].values\n",
        "    cust_ids=np.unique(cust_ids)\n",
        "    for cust in cust_ids:\n",
        "      mask=data['Customer_ID']==cust\n",
        "      data.loc[mask,column]=data.loc[mask,column].fillna(method='ffill')\n",
        "  #Check the number of missing values in column after step 2\n",
        "    num=data[column].isna().sum()\n",
        "    print(f'# of missing values in {column} after step 2 is {num}')\n",
        "    return data\n"
      ],
      "metadata": {
        "id": "WI2j5FBBh5M3"
      },
      "execution_count": null,
      "outputs": []
    },
    {
      "cell_type": "markdown",
      "source": [
        "* Extract categorical features that have missing values."
      ],
      "metadata": {
        "id": "DX2WnHuXofaS"
      }
    },
    {
      "cell_type": "code",
      "source": [
        "mask=df_clean.select_dtypes(include='object').isna().sum()>0\n",
        "cat_cols_na=df_clean.select_dtypes(include='object').isna().sum().loc[mask].index\n",
        "for col in cat_cols_na:\n",
        "  print(f\"The feature {col} has missing values\")"
      ],
      "metadata": {
        "colab": {
          "base_uri": "https://localhost:8080/"
        },
        "id": "XoY1iQEFqRya",
        "outputId": "7980cd94-4ac6-49d4-8352-9b4397722f20"
      },
      "execution_count": null,
      "outputs": [
        {
          "output_type": "stream",
          "name": "stdout",
          "text": [
            "The feature Occupation has missing values\n",
            "The feature Type_of_Loan has missing values\n",
            "The feature Credit_Mix has missing values\n",
            "The feature Payment_Behaviour has missing values\n"
          ]
        }
      ]
    },
    {
      "cell_type": "markdown",
      "source": [
        "* **Occupation**"
      ],
      "metadata": {
        "id": "4t9DEZEruqsO"
      }
    },
    {
      "cell_type": "code",
      "source": [
        "df_clean['Occupation']=df_clean['Occupation'].str.strip()\n",
        "df_clean=impute_cat(df_clean,'Occupation')"
      ],
      "metadata": {
        "colab": {
          "base_uri": "https://localhost:8080/"
        },
        "id": "EqixHmbZt3pQ",
        "outputId": "e0bbf113-596e-423a-cd9f-1bfcb080b39d"
      },
      "execution_count": null,
      "outputs": [
        {
          "output_type": "stream",
          "name": "stdout",
          "text": [
            "# of missing values in Occupation after step 1 is 935\n",
            "# of missing values in Occupation after step 2 is 0\n"
          ]
        }
      ]
    },
    {
      "cell_type": "markdown",
      "source": [
        "* **Type_of_Loan**"
      ],
      "metadata": {
        "id": "SmDTx_zfvvf7"
      }
    },
    {
      "cell_type": "code",
      "source": [
        "df_clean['Type_of_Loan']=df_clean['Type_of_Loan'].str.strip()\n",
        "df_clean=impute_cat(df_clean,'Type_of_Loan')"
      ],
      "metadata": {
        "colab": {
          "base_uri": "https://localhost:8080/"
        },
        "id": "VsX6ae5Av5Rh",
        "outputId": "af99ef0e-39f4-4cec-d8a7-ff4c0ee40589"
      },
      "execution_count": null,
      "outputs": [
        {
          "output_type": "stream",
          "name": "stdout",
          "text": [
            "# of missing values in Type_of_Loan after step 1 is 11408\n",
            "# of missing values in Type_of_Loan after step 2 is 11408\n"
          ]
        }
      ]
    },
    {
      "cell_type": "markdown",
      "source": [
        "* It seems that there are customer_ids in `Type_of_Loan`, for which each entry is Nan.\n",
        "One such example is given below."
      ],
      "metadata": {
        "id": "pm9RYfCTfYdn"
      }
    },
    {
      "cell_type": "code",
      "source": [
        "indices=df_clean[\"Type_of_Loan\"].isna()\n",
        "df_clean.loc[indices,['Customer_ID','Type_of_Loan']].head(8)"
      ],
      "metadata": {
        "colab": {
          "base_uri": "https://localhost:8080/",
          "height": 300
        },
        "id": "pnPLWWAWx-Z8",
        "outputId": "d0613861-6d21-49bb-bb4f-bad2cb7a1798"
      },
      "execution_count": null,
      "outputs": [
        {
          "output_type": "execute_result",
          "data": {
            "text/plain": [
              "   Customer_ID Type_of_Loan\n",
              "32  CUS_0x1cdb          NaN\n",
              "33  CUS_0x1cdb          NaN\n",
              "34  CUS_0x1cdb          NaN\n",
              "35  CUS_0x1cdb          NaN\n",
              "36  CUS_0x1cdb          NaN\n",
              "37  CUS_0x1cdb          NaN\n",
              "38  CUS_0x1cdb          NaN\n",
              "39  CUS_0x1cdb          NaN"
            ],
            "text/html": [
              "\n",
              "  <div id=\"df-afc29c40-823d-4d6f-8425-84c82ab754c3\">\n",
              "    <div class=\"colab-df-container\">\n",
              "      <div>\n",
              "<style scoped>\n",
              "    .dataframe tbody tr th:only-of-type {\n",
              "        vertical-align: middle;\n",
              "    }\n",
              "\n",
              "    .dataframe tbody tr th {\n",
              "        vertical-align: top;\n",
              "    }\n",
              "\n",
              "    .dataframe thead th {\n",
              "        text-align: right;\n",
              "    }\n",
              "</style>\n",
              "<table border=\"1\" class=\"dataframe\">\n",
              "  <thead>\n",
              "    <tr style=\"text-align: right;\">\n",
              "      <th></th>\n",
              "      <th>Customer_ID</th>\n",
              "      <th>Type_of_Loan</th>\n",
              "    </tr>\n",
              "  </thead>\n",
              "  <tbody>\n",
              "    <tr>\n",
              "      <th>32</th>\n",
              "      <td>CUS_0x1cdb</td>\n",
              "      <td>NaN</td>\n",
              "    </tr>\n",
              "    <tr>\n",
              "      <th>33</th>\n",
              "      <td>CUS_0x1cdb</td>\n",
              "      <td>NaN</td>\n",
              "    </tr>\n",
              "    <tr>\n",
              "      <th>34</th>\n",
              "      <td>CUS_0x1cdb</td>\n",
              "      <td>NaN</td>\n",
              "    </tr>\n",
              "    <tr>\n",
              "      <th>35</th>\n",
              "      <td>CUS_0x1cdb</td>\n",
              "      <td>NaN</td>\n",
              "    </tr>\n",
              "    <tr>\n",
              "      <th>36</th>\n",
              "      <td>CUS_0x1cdb</td>\n",
              "      <td>NaN</td>\n",
              "    </tr>\n",
              "    <tr>\n",
              "      <th>37</th>\n",
              "      <td>CUS_0x1cdb</td>\n",
              "      <td>NaN</td>\n",
              "    </tr>\n",
              "    <tr>\n",
              "      <th>38</th>\n",
              "      <td>CUS_0x1cdb</td>\n",
              "      <td>NaN</td>\n",
              "    </tr>\n",
              "    <tr>\n",
              "      <th>39</th>\n",
              "      <td>CUS_0x1cdb</td>\n",
              "      <td>NaN</td>\n",
              "    </tr>\n",
              "  </tbody>\n",
              "</table>\n",
              "</div>\n",
              "      <button class=\"colab-df-convert\" onclick=\"convertToInteractive('df-afc29c40-823d-4d6f-8425-84c82ab754c3')\"\n",
              "              title=\"Convert this dataframe to an interactive table.\"\n",
              "              style=\"display:none;\">\n",
              "        \n",
              "  <svg xmlns=\"http://www.w3.org/2000/svg\" height=\"24px\"viewBox=\"0 0 24 24\"\n",
              "       width=\"24px\">\n",
              "    <path d=\"M0 0h24v24H0V0z\" fill=\"none\"/>\n",
              "    <path d=\"M18.56 5.44l.94 2.06.94-2.06 2.06-.94-2.06-.94-.94-2.06-.94 2.06-2.06.94zm-11 1L8.5 8.5l.94-2.06 2.06-.94-2.06-.94L8.5 2.5l-.94 2.06-2.06.94zm10 10l.94 2.06.94-2.06 2.06-.94-2.06-.94-.94-2.06-.94 2.06-2.06.94z\"/><path d=\"M17.41 7.96l-1.37-1.37c-.4-.4-.92-.59-1.43-.59-.52 0-1.04.2-1.43.59L10.3 9.45l-7.72 7.72c-.78.78-.78 2.05 0 2.83L4 21.41c.39.39.9.59 1.41.59.51 0 1.02-.2 1.41-.59l7.78-7.78 2.81-2.81c.8-.78.8-2.07 0-2.86zM5.41 20L4 18.59l7.72-7.72 1.47 1.35L5.41 20z\"/>\n",
              "  </svg>\n",
              "      </button>\n",
              "      \n",
              "  <style>\n",
              "    .colab-df-container {\n",
              "      display:flex;\n",
              "      flex-wrap:wrap;\n",
              "      gap: 12px;\n",
              "    }\n",
              "\n",
              "    .colab-df-convert {\n",
              "      background-color: #E8F0FE;\n",
              "      border: none;\n",
              "      border-radius: 50%;\n",
              "      cursor: pointer;\n",
              "      display: none;\n",
              "      fill: #1967D2;\n",
              "      height: 32px;\n",
              "      padding: 0 0 0 0;\n",
              "      width: 32px;\n",
              "    }\n",
              "\n",
              "    .colab-df-convert:hover {\n",
              "      background-color: #E2EBFA;\n",
              "      box-shadow: 0px 1px 2px rgba(60, 64, 67, 0.3), 0px 1px 3px 1px rgba(60, 64, 67, 0.15);\n",
              "      fill: #174EA6;\n",
              "    }\n",
              "\n",
              "    [theme=dark] .colab-df-convert {\n",
              "      background-color: #3B4455;\n",
              "      fill: #D2E3FC;\n",
              "    }\n",
              "\n",
              "    [theme=dark] .colab-df-convert:hover {\n",
              "      background-color: #434B5C;\n",
              "      box-shadow: 0px 1px 3px 1px rgba(0, 0, 0, 0.15);\n",
              "      filter: drop-shadow(0px 1px 2px rgba(0, 0, 0, 0.3));\n",
              "      fill: #FFFFFF;\n",
              "    }\n",
              "  </style>\n",
              "\n",
              "      <script>\n",
              "        const buttonEl =\n",
              "          document.querySelector('#df-afc29c40-823d-4d6f-8425-84c82ab754c3 button.colab-df-convert');\n",
              "        buttonEl.style.display =\n",
              "          google.colab.kernel.accessAllowed ? 'block' : 'none';\n",
              "\n",
              "        async function convertToInteractive(key) {\n",
              "          const element = document.querySelector('#df-afc29c40-823d-4d6f-8425-84c82ab754c3');\n",
              "          const dataTable =\n",
              "            await google.colab.kernel.invokeFunction('convertToInteractive',\n",
              "                                                     [key], {});\n",
              "          if (!dataTable) return;\n",
              "\n",
              "          const docLinkHtml = 'Like what you see? Visit the ' +\n",
              "            '<a target=\"_blank\" href=https://colab.research.google.com/notebooks/data_table.ipynb>data table notebook</a>'\n",
              "            + ' to learn more about interactive tables.';\n",
              "          element.innerHTML = '';\n",
              "          dataTable['output_type'] = 'display_data';\n",
              "          await google.colab.output.renderOutput(dataTable, element);\n",
              "          const docLink = document.createElement('div');\n",
              "          docLink.innerHTML = docLinkHtml;\n",
              "          element.appendChild(docLink);\n",
              "        }\n",
              "      </script>\n",
              "    </div>\n",
              "  </div>\n",
              "  "
            ]
          },
          "metadata": {},
          "execution_count": 44
        }
      ]
    },
    {
      "cell_type": "markdown",
      "source": [
        "* We will impute the missing values in `Type_of_Loan` with 'Not Specified' value"
      ],
      "metadata": {
        "id": "GsjinI8khDy4"
      }
    },
    {
      "cell_type": "code",
      "source": [
        "indices=df_clean[\"Type_of_Loan\"].isna()\n",
        "df_clean.loc[indices,'Type_of_Loan']='Not Specified'"
      ],
      "metadata": {
        "id": "dC4s1jf0maYa"
      },
      "execution_count": null,
      "outputs": []
    },
    {
      "cell_type": "code",
      "source": [
        "null_values=df_clean['Type_of_Loan'].isna().sum()\n",
        "print(f'The number of missing values in Type_of_Loan is {null_values}')"
      ],
      "metadata": {
        "colab": {
          "base_uri": "https://localhost:8080/"
        },
        "id": "bzeupMwfnlC7",
        "outputId": "2e875fd7-1883-4465-a29b-a56db729f480"
      },
      "execution_count": null,
      "outputs": [
        {
          "output_type": "stream",
          "name": "stdout",
          "text": [
            "The number of missing values in Type_of_Loan is 0\n"
          ]
        }
      ]
    },
    {
      "cell_type": "markdown",
      "source": [
        "**Credit_Mix**"
      ],
      "metadata": {
        "id": "Bh0-1lNx2zgk"
      }
    },
    {
      "cell_type": "code",
      "source": [
        "df_clean['Credit_Mix']=df_clean['Credit_Mix'].str.strip()\n",
        "df_clean=impute_cat(df_clean,'Credit_Mix')"
      ],
      "metadata": {
        "colab": {
          "base_uri": "https://localhost:8080/"
        },
        "id": "aewn9Nmf1RbY",
        "outputId": "d08be4aa-6811-41bf-b83d-4cc31ae3f99c"
      },
      "execution_count": null,
      "outputs": [
        {
          "output_type": "stream",
          "name": "stdout",
          "text": [
            "# of missing values in Credit_Mix after step 1 is 3242\n",
            "# of missing values in Credit_Mix after step 2 is 0\n"
          ]
        }
      ]
    },
    {
      "cell_type": "markdown",
      "source": [
        "**Payment_Behaviour**"
      ],
      "metadata": {
        "id": "pZMu5yW1236F"
      }
    },
    {
      "cell_type": "code",
      "source": [
        "df_clean['Payment_Behaviour']=df_clean['Payment_Behaviour'].str.strip()\n",
        "df_clean=impute_cat(df_clean,'Payment_Behaviour')"
      ],
      "metadata": {
        "colab": {
          "base_uri": "https://localhost:8080/"
        },
        "id": "AGngrIDl3Ko3",
        "outputId": "f8b882a8-bb42-404e-aac5-3ae021d1714c"
      },
      "execution_count": null,
      "outputs": [
        {
          "output_type": "stream",
          "name": "stdout",
          "text": [
            "# of missing values in Payment_Behaviour after step 1 is 1077\n",
            "# of missing values in Payment_Behaviour after step 2 is 0\n"
          ]
        }
      ]
    },
    {
      "cell_type": "markdown",
      "source": [
        "**Numerical Features**\n"
      ],
      "metadata": {
        "id": "xEP5qKc2B4KM"
      }
    },
    {
      "cell_type": "markdown",
      "source": [
        "* Extract the numerical features that have missing values."
      ],
      "metadata": {
        "id": "7Lt0M8cwFcgH"
      }
    },
    {
      "cell_type": "code",
      "source": [
        "mask=df_clean.select_dtypes(exclude='object').isna().sum()>0\n",
        "num_cols_na=df_clean.select_dtypes(exclude='object').isna().sum().loc[mask].index\n",
        "for col in num_cols_na:\n",
        "  print(f\"The feature {col} has missing values\")"
      ],
      "metadata": {
        "colab": {
          "base_uri": "https://localhost:8080/"
        },
        "id": "C3CZlhSpE6Iv",
        "outputId": "7a76d8ec-95d2-44b7-baec-f54b230d26ea"
      },
      "execution_count": null,
      "outputs": [
        {
          "output_type": "stream",
          "name": "stdout",
          "text": [
            "The feature Monthly_Inhand_Salary has missing values\n",
            "The feature Num_of_Delayed_Payment has missing values\n",
            "The feature Changed_Credit_Limit has missing values\n",
            "The feature Num_Credit_Inquiries has missing values\n",
            "The feature Credit_History_Age has missing values\n",
            "The feature Amount_invested_monthly has missing values\n",
            "The feature Monthly_Balance has missing values\n"
          ]
        }
      ]
    },
    {
      "cell_type": "markdown",
      "source": [
        "* The imputation of numerical features `Credit_History_Age` and `Monthly_Balance` will be treated separately.\n",
        "* The remaining numerical features will be treated in the same way:\n",
        "  * **Step 1.** We will impute the nan values by the average of two numbers surrounding the Nan value. We have created the function `impute_average` to help us with this task.\n",
        "  * **Step 2.** Otherwise use parameter 'bfill' or 'ffill' of pd.DataFrame.fillna()\n",
        "  * The Steps 1 and 2 are included in the function `impute_num`"
      ],
      "metadata": {
        "id": "Wsi-qouaopWT"
      }
    },
    {
      "cell_type": "code",
      "source": [
        "def impute_average(data,mask,column):\n",
        "  for i in range(1,len(data.loc[mask,column])-1):\n",
        "    cond1=not math.isnan(data.loc[mask,column].iloc[i-1])\n",
        "    cond2=not math.isnan(data.loc[mask,column].iloc[i+1])\n",
        "    cond3=math.isnan(data.loc[mask,column].iloc[i])\n",
        "    if (cond1 and cond2) and cond3:\n",
        "      data.loc[mask,column].iloc[i]=(data.loc[mask,column].iloc[i-1]+data.loc[mask,column].iloc[i+1])/2\n",
        "  return data\n",
        "\n",
        "\n",
        "\n"
      ],
      "metadata": {
        "id": "mebat4qdrC6K"
      },
      "execution_count": null,
      "outputs": []
    },
    {
      "cell_type": "code",
      "source": [
        "def impute_num(data,column):\n",
        "  #step 1--> use impute average\n",
        "  indices=data[column].isna()\n",
        "  cust_ids=data.loc[indices]['Customer_ID'].unique()\n",
        "  for cust in cust_ids:\n",
        "     mask=df_clean['Customer_ID']==cust\n",
        "     data=impute_average(data,mask,column)\n",
        "  #Check the number of missing values in column after step 1\n",
        "  num=data[column].isna().sum()\n",
        "  print(f'# of missing values in {column} after step 1 is {num}')\n",
        "  if num==0:\n",
        "    print('The imputing process is finished!')\n",
        "    return data\n",
        "  #step 2--> use bfill\n",
        "  else: \n",
        "    indices=data[column].isna()\n",
        "    cust_ids=data.loc[indices]['Customer_ID'].unique()\n",
        "    #bfill within each customer_id group\n",
        "    for cust in cust_ids:\n",
        "      mask=data['Customer_ID']==cust\n",
        "      data.loc[mask,column]=data.loc[mask,column].fillna(method='bfill')\n",
        "  #Check the number of missing values in column after step 2 bfill\n",
        "    num=data[column].isna().sum()\n",
        "    print(f'# of missing values in {column} after step 2 (bfill) is {num}')\n",
        "    if num==0: #checking if we need to proceed to the next step\n",
        "      return data\n",
        "    #step 2--> use ffill\n",
        "    else:\n",
        "      indices=data[column].isna()\n",
        "      cust_ids=data.loc[indices]['Customer_ID'].unique()\n",
        "      #ffill within each customer_id group\n",
        "      for cust in cust_ids:\n",
        "        mask=data['Customer_ID']==cust\n",
        "        data.loc[mask,column]=data.loc[mask,column].fillna(method='ffill')\n",
        "  #Check the number of missing values in column after step 2 ffill\n",
        "      num=data[column].isna().sum()\n",
        "      print(f'# of missing values in {column} after step 2 (ffill) is {num}')\n",
        "      return data\n",
        "\n",
        "\n",
        "  \n",
        "  "
      ],
      "metadata": {
        "id": "59Mx9kesu2JN"
      },
      "execution_count": null,
      "outputs": []
    },
    {
      "cell_type": "markdown",
      "source": [
        "**Monthly_Inhand_Salary**\n"
      ],
      "metadata": {
        "id": "SYrPnydM1V3I"
      }
    },
    {
      "cell_type": "code",
      "source": [
        "df_clean['Monthly_Inhand_Salary'].describe([.25, .5, .75,0.95,0.99])"
      ],
      "metadata": {
        "colab": {
          "base_uri": "https://localhost:8080/"
        },
        "id": "hgpGARbbRMPB",
        "outputId": "493004dc-8167-4f18-f6c7-88accc9f5fa3"
      },
      "execution_count": null,
      "outputs": [
        {
          "output_type": "execute_result",
          "data": {
            "text/plain": [
              "count    84998.000000\n",
              "mean      4194.170850\n",
              "std       3183.686167\n",
              "min        303.645417\n",
              "25%       1625.568229\n",
              "50%       3093.745000\n",
              "75%       5957.448333\n",
              "95%      10828.226500\n",
              "99%      13814.930000\n",
              "max      15204.633333\n",
              "Name: Monthly_Inhand_Salary, dtype: float64"
            ]
          },
          "metadata": {},
          "execution_count": 52
        }
      ]
    },
    {
      "cell_type": "code",
      "source": [
        "df_clean=impute_num(df_clean,'Monthly_Inhand_Salary')"
      ],
      "metadata": {
        "colab": {
          "base_uri": "https://localhost:8080/"
        },
        "id": "9EtjhIkhFgVe",
        "outputId": "7a13bad2-99ff-47c8-fa01-cd02fe02d1bd"
      },
      "execution_count": null,
      "outputs": [
        {
          "output_type": "stream",
          "name": "stdout",
          "text": [
            "# of missing values in Monthly_Inhand_Salary after step 1 is 15002\n",
            "# of missing values in Monthly_Inhand_Salary after step 2 (bfill) is 2229\n",
            "# of missing values in Monthly_Inhand_Salary after step 2 (ffill) is 0\n"
          ]
        }
      ]
    },
    {
      "cell_type": "markdown",
      "source": [
        "**Num_Of_Delayed_Payment**\n",
        "\n",
        "* This feature has extraneous values min=-3,  (expected positive) and max=4397\n",
        "* 99 pecentile of this feature is 27 (max=4397) and 1 percentile is 0 (the code is given below). This means that this feature is very skewed. We will treat these extraneous values as nan and then imputem them.\n",
        "* The values that are below zero and larger than 30 will be considered extraneous."
      ],
      "metadata": {
        "id": "BkI2IVfpTK_3"
      }
    },
    {
      "cell_type": "code",
      "source": [
        "df_clean['Num_of_Delayed_Payment'].describe([0.01,.25, .5, .75,0.95,0.99])"
      ],
      "metadata": {
        "colab": {
          "base_uri": "https://localhost:8080/"
        },
        "id": "MIZ3F8OMMuF7",
        "outputId": "61dc7428-0797-483a-e453-eafc63d13949"
      },
      "execution_count": null,
      "outputs": [
        {
          "output_type": "execute_result",
          "data": {
            "text/plain": [
              "count    92998.000000\n",
              "mean        30.923342\n",
              "std        226.031892\n",
              "min         -3.000000\n",
              "1%           0.000000\n",
              "25%          9.000000\n",
              "50%         14.000000\n",
              "75%         18.000000\n",
              "95%         24.000000\n",
              "99%         27.000000\n",
              "max       4397.000000\n",
              "Name: Num_of_Delayed_Payment, dtype: float64"
            ]
          },
          "metadata": {},
          "execution_count": 54
        }
      ]
    },
    {
      "cell_type": "markdown",
      "source": [
        "* Consider the extraneous values as Nan"
      ],
      "metadata": {
        "id": "AN6jIuN5VbYG"
      }
    },
    {
      "cell_type": "code",
      "source": [
        "lower_bound=0\n",
        "upper_bound=30\n",
        "df_clean['Num_of_Delayed_Payment']=df_clean['Num_of_Delayed_Payment']\\\n",
        ".apply(lambda x: np.nan if x<lower_bound or x>upper_bound else x)#extraneous values=nan\n",
        "\n"
      ],
      "metadata": {
        "id": "lPmAc2WkUdQM"
      },
      "execution_count": null,
      "outputs": []
    },
    {
      "cell_type": "code",
      "source": [
        "df_clean=impute_num(df_clean,'Num_of_Delayed_Payment')"
      ],
      "metadata": {
        "colab": {
          "base_uri": "https://localhost:8080/"
        },
        "id": "ahr8MP-yVi6x",
        "outputId": "8564a591-7096-4f04-fef8-65c4f614be9c"
      },
      "execution_count": null,
      "outputs": [
        {
          "output_type": "stream",
          "name": "stdout",
          "text": [
            "# of missing values in Num_of_Delayed_Payment after step 1 is 8382\n",
            "# of missing values in Num_of_Delayed_Payment after step 2 (bfill) is 1140\n",
            "# of missing values in Num_of_Delayed_Payment after step 2 (ffill) is 0\n"
          ]
        }
      ]
    },
    {
      "cell_type": "markdown",
      "source": [
        "**Num_Credit_Inquiries**\n",
        "* Max value=2597, min value=0\n",
        "* 98 percentile is 16.\n",
        "* This feature has extraneous values. The values that are larger than 20 will be considered as nan and we will impute them."
      ],
      "metadata": {
        "id": "EUPijWBXW0iN"
      }
    },
    {
      "cell_type": "code",
      "source": [
        "df_clean['Num_Credit_Inquiries'].describe([0.01,.25, .5, .75,0.95,0.98])"
      ],
      "metadata": {
        "colab": {
          "base_uri": "https://localhost:8080/"
        },
        "id": "a-SzcJuCY364",
        "outputId": "89db8655-8504-43a8-f094-e872661af0b8"
      },
      "execution_count": null,
      "outputs": [
        {
          "output_type": "execute_result",
          "data": {
            "text/plain": [
              "count    98035.000000\n",
              "mean        27.754251\n",
              "std        193.177339\n",
              "min          0.000000\n",
              "1%           0.000000\n",
              "25%          3.000000\n",
              "50%          6.000000\n",
              "75%          9.000000\n",
              "95%         13.000000\n",
              "98%         16.000000\n",
              "max       2597.000000\n",
              "Name: Num_Credit_Inquiries, dtype: float64"
            ]
          },
          "metadata": {},
          "execution_count": 57
        }
      ]
    },
    {
      "cell_type": "code",
      "source": [
        "upper_bound=20\n",
        "df_clean['Num_Credit_Inquiries']=df_clean['Num_Credit_Inquiries']\\\n",
        ".apply(lambda x: np.nan if x>upper_bound else x)"
      ],
      "metadata": {
        "id": "g3RL1K6ha3Rk"
      },
      "execution_count": null,
      "outputs": []
    },
    {
      "cell_type": "code",
      "source": [
        "df_clean=impute_num(df_clean,'Num_Credit_Inquiries')"
      ],
      "metadata": {
        "colab": {
          "base_uri": "https://localhost:8080/"
        },
        "id": "mGtvgg94bU5d",
        "outputId": "9996cfe3-78cb-4679-8e86-c16ff082b5b2"
      },
      "execution_count": null,
      "outputs": [
        {
          "output_type": "stream",
          "name": "stdout",
          "text": [
            "# of missing values in Num_Credit_Inquiries after step 1 is 3615\n",
            "# of missing values in Num_Credit_Inquiries after step 2 (bfill) is 464\n",
            "# of missing values in Num_Credit_Inquiries after step 2 (ffill) is 0\n"
          ]
        }
      ]
    },
    {
      "cell_type": "markdown",
      "source": [
        "**Amount_invested_monthly**\n",
        "* This feature is very skewed. This time we will not replace huge values with nan."
      ],
      "metadata": {
        "id": "PB2PwqU6c0yZ"
      }
    },
    {
      "cell_type": "code",
      "source": [
        "plt.figure(figsize=(4,4))\n",
        "df_clean['Amount_invested_monthly'].hist()\n",
        "plt.title('Distribution of Amount_invested_monthly');"
      ],
      "metadata": {
        "colab": {
          "base_uri": "https://localhost:8080/",
          "height": 280
        },
        "id": "gEoLC7YvUXMO",
        "outputId": "b1d831a1-e2da-4259-a6ff-00a47800194a"
      },
      "execution_count": null,
      "outputs": [
        {
          "output_type": "display_data",
          "data": {
            "text/plain": [
              "<Figure size 288x288 with 1 Axes>"
            ],
            "image/png": "[encoded data removed]"
          },
          "metadata": {}
        }
      ]
    },
    {
      "cell_type": "code",
      "source": [
        "df_clean['Amount_invested_monthly'].describe([0.01,.25, .5, .75,0.95,0.96])"
      ],
      "metadata": {
        "colab": {
          "base_uri": "https://localhost:8080/"
        },
        "id": "vfrbxw9WT4Bf",
        "outputId": "d9e70a90-5087-4015-b5a7-0c18c93a3e03"
      },
      "execution_count": null,
      "outputs": [
        {
          "output_type": "execute_result",
          "data": {
            "text/plain": [
              "count    95521.000000\n",
              "mean       637.412998\n",
              "std       2043.319327\n",
              "min          0.000000\n",
              "1%          16.832606\n",
              "25%         74.534002\n",
              "50%        135.925682\n",
              "75%        265.731733\n",
              "95%       1149.405785\n",
              "96%      10000.000000\n",
              "max      10000.000000\n",
              "Name: Amount_invested_monthly, dtype: float64"
            ]
          },
          "metadata": {},
          "execution_count": 61
        }
      ]
    },
    {
      "cell_type": "code",
      "source": [
        "df_clean=impute_num(df_clean,'Amount_invested_monthly')"
      ],
      "metadata": {
        "colab": {
          "base_uri": "https://localhost:8080/"
        },
        "id": "nf-yHIOtdYaL",
        "outputId": "6833a97d-3d76-4a44-f024-87b828484304"
      },
      "execution_count": null,
      "outputs": [
        {
          "output_type": "stream",
          "name": "stdout",
          "text": [
            "# of missing values in Amount_invested_monthly after step 1 is 4479\n",
            "# of missing values in Amount_invested_monthly after step 2 (bfill) is 612\n",
            "# of missing values in Amount_invested_monthly after step 2 (ffill) is 0\n"
          ]
        }
      ]
    },
    {
      "cell_type": "markdown",
      "source": [
        "**Changed_Credit_Limit**\n",
        "\n",
        "* This features has negatives values. Since it is a change in credit limit, negative values are expected."
      ],
      "metadata": {
        "id": "jIMa9l7yaOQC"
      }
    },
    {
      "cell_type": "code",
      "source": [
        "df_clean['Changed_Credit_Limit'].describe([0.01,.25, .5, .75,0.95,0.99])"
      ],
      "metadata": {
        "colab": {
          "base_uri": "https://localhost:8080/"
        },
        "id": "7hEUZZita564",
        "outputId": "694b5046-db4b-456a-cd41-e7213a251640"
      },
      "execution_count": null,
      "outputs": [
        {
          "output_type": "execute_result",
          "data": {
            "text/plain": [
              "count    97909.000000\n",
              "mean        10.389025\n",
              "std          6.789496\n",
              "min         -6.490000\n",
              "1%          -1.540000\n",
              "25%          5.320000\n",
              "50%          9.400000\n",
              "75%         14.870000\n",
              "95%         23.600000\n",
              "99%         28.810000\n",
              "max         36.970000\n",
              "Name: Changed_Credit_Limit, dtype: float64"
            ]
          },
          "metadata": {},
          "execution_count": 63
        }
      ]
    },
    {
      "cell_type": "code",
      "source": [
        "df_clean=impute_num(df_clean,'Changed_Credit_Limit')"
      ],
      "metadata": {
        "colab": {
          "base_uri": "https://localhost:8080/"
        },
        "id": "NjFnhUK-em5X",
        "outputId": "96a7d5dc-7b0d-4bdc-fa4e-af2b0a271f6b"
      },
      "execution_count": null,
      "outputs": [
        {
          "output_type": "stream",
          "name": "stdout",
          "text": [
            "# of missing values in Changed_Credit_Limit after step 1 is 2091\n",
            "# of missing values in Changed_Credit_Limit after step 2 (bfill) is 260\n",
            "# of missing values in Changed_Credit_Limit after step 2 (ffill) is 0\n"
          ]
        }
      ]
    },
    {
      "cell_type": "markdown",
      "source": [
        "**Monthly_Balance**\n",
        "\n",
        "* The above functions for imputation cannnot be used for `Monthly_Balance` since there are customer ids for which each entry is nan. This is confirmed by the code below in the next cell.\n",
        "* We decided to remove the rows for `Monthly_Balance` that have missing values."
      ],
      "metadata": {
        "id": "zEfv6tTichYs"
      }
    },
    {
      "cell_type": "code",
      "source": [
        "dic=dict()#contains the groups of cutomers where each entry is nan\n",
        "num_column='Monthly_Balance'\n",
        "unique_customers=df_clean['Customer_ID'].unique()\n",
        "customers_na=[]\n",
        "for customer in unique_customers:\n",
        "  mask=df_clean['Customer_ID']==customer\n",
        "  number_nas=df_clean.loc[mask,num_column].isna().sum()\n",
        "  if number_nas==8:\n",
        "    customers_na.append(customer)\n",
        "if len(customers_na)>0:\n",
        "  print('There are customers group where all entries are nan')\n",
        "  dic[num_column]=customers_na\n",
        "else:\n",
        "  print('Passed the test')\n"
      ],
      "metadata": {
        "colab": {
          "base_uri": "https://localhost:8080/"
        },
        "id": "YJIzP2oXHK4_",
        "outputId": "955f62c2-132c-4c7c-a2ec-1f8f91d8e661"
      },
      "execution_count": null,
      "outputs": [
        {
          "output_type": "stream",
          "name": "stdout",
          "text": [
            "There are customers group where all entries are nan\n"
          ]
        }
      ]
    },
    {
      "cell_type": "code",
      "source": [
        "print(f\"There are {len(dic[num_column])} customer groups where all entries are nan\")\n",
        "print('One example of such customer is \"CUS_0xb3d7\"')\n",
        "mask=df_clean['Customer_ID']=='CUS_0xb3d7'\n",
        "df_clean.loc[mask,['Customer_ID',num_column]]"
      ],
      "metadata": {
        "colab": {
          "base_uri": "https://localhost:8080/",
          "height": 335
        },
        "id": "dkF3UQhtQkaj",
        "outputId": "dd89af27-462e-4722-bda6-17e92e5f50cf"
      },
      "execution_count": null,
      "outputs": [
        {
          "output_type": "stream",
          "name": "stdout",
          "text": [
            "There are 212 customer groups where all entries are nan\n",
            "One example of such customer is \"CUS_0xb3d7\"\n"
          ]
        },
        {
          "output_type": "execute_result",
          "data": {
            "text/plain": [
              "      Customer_ID  Monthly_Balance\n",
              "98304  CUS_0xb3d7              NaN\n",
              "98305  CUS_0xb3d7              NaN\n",
              "98306  CUS_0xb3d7              NaN\n",
              "98307  CUS_0xb3d7              NaN\n",
              "98308  CUS_0xb3d7              NaN\n",
              "98309  CUS_0xb3d7              NaN\n",
              "98310  CUS_0xb3d7              NaN\n",
              "98311  CUS_0xb3d7              NaN"
            ],
            "text/html": [
              "\n",
              "  <div id=\"df-6f6b9825-ad58-4769-b86d-894058ee731c\">\n",
              "    <div class=\"colab-df-container\">\n",
              "      <div>\n",
              "<style scoped>\n",
              "    .dataframe tbody tr th:only-of-type {\n",
              "        vertical-align: middle;\n",
              "    }\n",
              "\n",
              "    .dataframe tbody tr th {\n",
              "        vertical-align: top;\n",
              "    }\n",
              "\n",
              "    .dataframe thead th {\n",
              "        text-align: right;\n",
              "    }\n",
              "</style>\n",
              "<table border=\"1\" class=\"dataframe\">\n",
              "  <thead>\n",
              "    <tr style=\"text-align: right;\">\n",
              "      <th></th>\n",
              "      <th>Customer_ID</th>\n",
              "      <th>Monthly_Balance</th>\n",
              "    </tr>\n",
              "  </thead>\n",
              "  <tbody>\n",
              "    <tr>\n",
              "      <th>98304</th>\n",
              "      <td>CUS_0xb3d7</td>\n",
              "      <td>NaN</td>\n",
              "    </tr>\n",
              "    <tr>\n",
              "      <th>98305</th>\n",
              "      <td>CUS_0xb3d7</td>\n",
              "      <td>NaN</td>\n",
              "    </tr>\n",
              "    <tr>\n",
              "      <th>98306</th>\n",
              "      <td>CUS_0xb3d7</td>\n",
              "      <td>NaN</td>\n",
              "    </tr>\n",
              "    <tr>\n",
              "      <th>98307</th>\n",
              "      <td>CUS_0xb3d7</td>\n",
              "      <td>NaN</td>\n",
              "    </tr>\n",
              "    <tr>\n",
              "      <th>98308</th>\n",
              "      <td>CUS_0xb3d7</td>\n",
              "      <td>NaN</td>\n",
              "    </tr>\n",
              "    <tr>\n",
              "      <th>98309</th>\n",
              "      <td>CUS_0xb3d7</td>\n",
              "      <td>NaN</td>\n",
              "    </tr>\n",
              "    <tr>\n",
              "      <th>98310</th>\n",
              "      <td>CUS_0xb3d7</td>\n",
              "      <td>NaN</td>\n",
              "    </tr>\n",
              "    <tr>\n",
              "      <th>98311</th>\n",
              "      <td>CUS_0xb3d7</td>\n",
              "      <td>NaN</td>\n",
              "    </tr>\n",
              "  </tbody>\n",
              "</table>\n",
              "</div>\n",
              "      <button class=\"colab-df-convert\" onclick=\"convertToInteractive('df-6f6b9825-ad58-4769-b86d-894058ee731c')\"\n",
              "              title=\"Convert this dataframe to an interactive table.\"\n",
              "              style=\"display:none;\">\n",
              "        \n",
              "  <svg xmlns=\"http://www.w3.org/2000/svg\" height=\"24px\"viewBox=\"0 0 24 24\"\n",
              "       width=\"24px\">\n",
              "    <path d=\"M0 0h24v24H0V0z\" fill=\"none\"/>\n",
              "    <path d=\"M18.56 5.44l.94 2.06.94-2.06 2.06-.94-2.06-.94-.94-2.06-.94 2.06-2.06.94zm-11 1L8.5 8.5l.94-2.06 2.06-.94-2.06-.94L8.5 2.5l-.94 2.06-2.06.94zm10 10l.94 2.06.94-2.06 2.06-.94-2.06-.94-.94-2.06-.94 2.06-2.06.94z\"/><path d=\"M17.41 7.96l-1.37-1.37c-.4-.4-.92-.59-1.43-.59-.52 0-1.04.2-1.43.59L10.3 9.45l-7.72 7.72c-.78.78-.78 2.05 0 2.83L4 21.41c.39.39.9.59 1.41.59.51 0 1.02-.2 1.41-.59l7.78-7.78 2.81-2.81c.8-.78.8-2.07 0-2.86zM5.41 20L4 18.59l7.72-7.72 1.47 1.35L5.41 20z\"/>\n",
              "  </svg>\n",
              "      </button>\n",
              "      \n",
              "  <style>\n",
              "    .colab-df-container {\n",
              "      display:flex;\n",
              "      flex-wrap:wrap;\n",
              "      gap: 12px;\n",
              "    }\n",
              "\n",
              "    .colab-df-convert {\n",
              "      background-color: #E8F0FE;\n",
              "      border: none;\n",
              "      border-radius: 50%;\n",
              "      cursor: pointer;\n",
              "      display: none;\n",
              "      fill: #1967D2;\n",
              "      height: 32px;\n",
              "      padding: 0 0 0 0;\n",
              "      width: 32px;\n",
              "    }\n",
              "\n",
              "    .colab-df-convert:hover {\n",
              "      background-color: #E2EBFA;\n",
              "      box-shadow: 0px 1px 2px rgba(60, 64, 67, 0.3), 0px 1px 3px 1px rgba(60, 64, 67, 0.15);\n",
              "      fill: #174EA6;\n",
              "    }\n",
              "\n",
              "    [theme=dark] .colab-df-convert {\n",
              "      background-color: #3B4455;\n",
              "      fill: #D2E3FC;\n",
              "    }\n",
              "\n",
              "    [theme=dark] .colab-df-convert:hover {\n",
              "      background-color: #434B5C;\n",
              "      box-shadow: 0px 1px 3px 1px rgba(0, 0, 0, 0.15);\n",
              "      filter: drop-shadow(0px 1px 2px rgba(0, 0, 0, 0.3));\n",
              "      fill: #FFFFFF;\n",
              "    }\n",
              "  </style>\n",
              "\n",
              "      <script>\n",
              "        const buttonEl =\n",
              "          document.querySelector('#df-6f6b9825-ad58-4769-b86d-894058ee731c button.colab-df-convert');\n",
              "        buttonEl.style.display =\n",
              "          google.colab.kernel.accessAllowed ? 'block' : 'none';\n",
              "\n",
              "        async function convertToInteractive(key) {\n",
              "          const element = document.querySelector('#df-6f6b9825-ad58-4769-b86d-894058ee731c');\n",
              "          const dataTable =\n",
              "            await google.colab.kernel.invokeFunction('convertToInteractive',\n",
              "                                                     [key], {});\n",
              "          if (!dataTable) return;\n",
              "\n",
              "          const docLinkHtml = 'Like what you see? Visit the ' +\n",
              "            '<a target=\"_blank\" href=https://colab.research.google.com/notebooks/data_table.ipynb>data table notebook</a>'\n",
              "            + ' to learn more about interactive tables.';\n",
              "          element.innerHTML = '';\n",
              "          dataTable['output_type'] = 'display_data';\n",
              "          await google.colab.output.renderOutput(dataTable, element);\n",
              "          const docLink = document.createElement('div');\n",
              "          docLink.innerHTML = docLinkHtml;\n",
              "          element.appendChild(docLink);\n",
              "        }\n",
              "      </script>\n",
              "    </div>\n",
              "  </div>\n",
              "  "
            ]
          },
          "metadata": {},
          "execution_count": 66
        }
      ]
    },
    {
      "cell_type": "code",
      "source": [
        "#Remove the rows for Monthly_Balance` that have missing values.\n",
        "df_clean=df_clean.dropna(subset=['Monthly_Balance'],axis=0)"
      ],
      "metadata": {
        "id": "zefQpDnUjxfd"
      },
      "execution_count": null,
      "outputs": []
    },
    {
      "cell_type": "markdown",
      "source": [
        "**Credit_History_Age**\n",
        "* The imputation of the missing values in `Credit_History_Age` within a customer_ID group. Note that the values of `Credit_History_Age` must be consecutive.\n",
        "* To accomplish this task we create two functions: \n",
        "  * **next_row**. This function replaces Nan values\n",
        "  with the value from the next row subtracted by 1.\n",
        "  * **previous row**. This function replaces Nan values with the values from the previous row added by one.\n",
        "* We will be using these functions in 2 steps.\n",
        "  * **Step 1:**: use next row.\n",
        "  * **Step 2:** use previous row"
      ],
      "metadata": {
        "id": "-xNNEKmCmg1Z"
      }
    },
    {
      "cell_type": "code",
      "source": [
        "def next_row(data,column):\n",
        "  '''This function imputes the Nan value with the value from the next row'''\n",
        "  for i in range(len(data[column])-2,-1,-1):\n",
        "    if math.isnan(data[column].iloc[i]) and not math.isnan(data[column].iloc[i+1]):\n",
        "      data[column].iloc[i]=data[column].iloc[i+1]-1\n",
        "  return data\n",
        "def previous_row(data,column):\n",
        "  '''This function imputes Nan values with the value from the previous row'''\n",
        "  for i in range(len(data[column])-1):\n",
        "    if not math.isnan(data[column].iloc[i]) and  math.isnan(data[column].iloc[i+1]):\n",
        "      data[column].iloc[i+1]=data[column].iloc[i]+1\n",
        "  return data\n"
      ],
      "metadata": {
        "id": "4FCjPTosqvG1"
      },
      "execution_count": null,
      "outputs": []
    },
    {
      "cell_type": "markdown",
      "source": [
        "* Impute the missing values."
      ],
      "metadata": {
        "id": "rWUbB1uKrFSB"
      }
    },
    {
      "cell_type": "code",
      "source": [
        "#Step 1\n",
        "indices=df_clean['Credit_History_Age'].isna()\n",
        "cust_ids=df_clean.loc[indices]['Customer_ID'].values\n",
        "cust_ids=np.unique(cust_ids)\n",
        "for cust in cust_ids:\n",
        "  mask=df_clean['Customer_ID']==cust\n",
        "  df_clean.loc[mask,'Credit_History_Age']=next_row(df_clean.loc[mask],'Credit_History_Age')\n",
        "\n",
        "print(f'# of missing values in Credit_History_Age after step 1 \\\n",
        "is {df_clean.Credit_History_Age.isna().sum()}')"
      ],
      "metadata": {
        "colab": {
          "base_uri": "https://localhost:8080/"
        },
        "id": "1bN5S_kprMYV",
        "outputId": "d17632a7-8119-46a8-ae29-58c194231436"
      },
      "execution_count": null,
      "outputs": [
        {
          "output_type": "stream",
          "name": "stderr",
          "text": [
            "/usr/local/lib/python3.7/dist-packages/pandas/core/indexing.py:1732: SettingWithCopyWarning: \n",
            "A value is trying to be set on a copy of a slice from a DataFrame\n",
            "\n",
            "See the caveats in the documentation: https://pandas.pydata.org/pandas-docs/stable/user_guide/indexing.html#returning-a-view-versus-a-copy\n",
            "  self._setitem_single_block(indexer, value, name)\n"
          ]
        },
        {
          "output_type": "stream",
          "name": "stdout",
          "text": [
            "# of missing values in Credit_History_Age after step 1 is 1203\n"
          ]
        }
      ]
    },
    {
      "cell_type": "code",
      "source": [
        "#Step 2\n",
        "indices=df_clean['Credit_History_Age'].isna()\n",
        "cust_ids=df_clean.loc[indices]['Customer_ID'].values\n",
        "cust_ids=np.unique(cust_ids)\n",
        "for cust in cust_ids:\n",
        "  mask=df_clean['Customer_ID']==cust\n",
        "  df_clean.loc[mask,'Credit_History_Age']=previous_row(df_clean.loc[mask],'Credit_History_Age')\n",
        "\n",
        "print(f'# of missing values in Credit_History_Age after step 2 \\\n",
        "is {df_clean.Credit_History_Age.isna().sum()}')"
      ],
      "metadata": {
        "colab": {
          "base_uri": "https://localhost:8080/"
        },
        "id": "yPdf98EBrlmz",
        "outputId": "b7c87f7f-e7ec-4401-8654-7098a8499444"
      },
      "execution_count": null,
      "outputs": [
        {
          "output_type": "stream",
          "name": "stdout",
          "text": [
            "# of missing values in Credit_History_Age after step 2 is 0\n"
          ]
        }
      ]
    },
    {
      "cell_type": "markdown",
      "source": [
        "### Dealing with unusual features"
      ],
      "metadata": {
        "id": "FIz_d1MR5O9-"
      }
    },
    {
      "cell_type": "markdown",
      "source": [
        "**Age**\n",
        "\n",
        "* The column `Age` has extraneous values (max value=8698). Also, some records have negative age values (min value=-500). This is confirmed below."
      ],
      "metadata": {
        "id": "ZtRqGmvF8aIm"
      }
    },
    {
      "cell_type": "code",
      "source": [
        "df_clean['Age'].describe([0.01,0.25,0.50,0.75,0.95,0.98])"
      ],
      "metadata": {
        "colab": {
          "base_uri": "https://localhost:8080/"
        },
        "id": "bTPR5TNo8onb",
        "outputId": "53e826cf-25a6-40d9-d0be-d29af936be0f"
      },
      "execution_count": null,
      "outputs": [
        {
          "output_type": "execute_result",
          "data": {
            "text/plain": [
              "count    97132.000000\n",
              "mean       110.649601\n",
              "std        686.430590\n",
              "min       -500.000000\n",
              "1%          14.000000\n",
              "25%         24.000000\n",
              "50%         33.000000\n",
              "75%         42.000000\n",
              "95%         53.000000\n",
              "98%         56.000000\n",
              "max       8698.000000\n",
              "Name: Age, dtype: float64"
            ]
          },
          "metadata": {},
          "execution_count": 96
        }
      ]
    },
    {
      "cell_type": "markdown",
      "source": [
        "* Age values that are negative or larger than 60 will be considered extraneous. We will replace these values with Nan and then impute them using the function `impute_num`"
      ],
      "metadata": {
        "id": "ev_c1ittAGRE"
      }
    },
    {
      "cell_type": "code",
      "source": [
        "\n",
        "lower_bound=0\n",
        "upper_bound=60\n",
        "df_clean['Age']=df_clean['Age'].apply(lambda x: np.nan if x<lower_bound or x>upper_bound else x)"
      ],
      "metadata": {
        "id": "uAt2Pnpp-Ul_"
      },
      "execution_count": null,
      "outputs": []
    },
    {
      "cell_type": "code",
      "source": [
        "df_clean=impute_num(df_clean,'Age')"
      ],
      "metadata": {
        "colab": {
          "base_uri": "https://localhost:8080/"
        },
        "id": "UafDIZYG_EPn",
        "outputId": "86c6c804-a595-4b9a-ff86-f1d654dc2e99"
      },
      "execution_count": null,
      "outputs": [
        {
          "output_type": "stream",
          "name": "stdout",
          "text": [
            "# of missing values in Age after step 1 is 2712\n",
            "# of missing values in Age after step 2 (bfill) is 324\n",
            "# of missing values in Age after step 2 (ffill) is 0\n"
          ]
        }
      ]
    },
    {
      "cell_type": "markdown",
      "source": [
        "**Num_Bank_Account**\n",
        "* This feature has negative values (positive are expected). The values that are less than 0 or larger than 450 will be considered extraneous. We will replace these values by nan and then impute them."
      ],
      "metadata": {
        "id": "92ECxX5K_gkT"
      }
    },
    {
      "cell_type": "code",
      "source": [
        "df_clean['Num_Bank_Accounts'].describe([0.01,0.25,0.75,0.95,0.99])"
      ],
      "metadata": {
        "colab": {
          "base_uri": "https://localhost:8080/"
        },
        "id": "TSo6rXxR_oKk",
        "outputId": "980d072c-3d28-4d1a-81a9-cab68bc4ecff"
      },
      "execution_count": null,
      "outputs": [
        {
          "output_type": "execute_result",
          "data": {
            "text/plain": [
              "count    97132.000000\n",
              "mean        17.153636\n",
              "std        117.866171\n",
              "min         -1.000000\n",
              "1%           0.000000\n",
              "25%          3.000000\n",
              "50%          6.000000\n",
              "75%          7.000000\n",
              "95%         10.000000\n",
              "99%        449.690000\n",
              "max       1798.000000\n",
              "Name: Num_Bank_Accounts, dtype: float64"
            ]
          },
          "metadata": {},
          "execution_count": 100
        }
      ]
    },
    {
      "cell_type": "code",
      "source": [
        "lower_bound=0\n",
        "upper_bound=450\n",
        "df_clean['Num_Bank_Accounts']=df_clean['Num_Bank_Accounts'].apply(lambda x: np.nan if x<lower_bound or x>upper_bound else x)"
      ],
      "metadata": {
        "id": "-zlvjWEGAuEV"
      },
      "execution_count": null,
      "outputs": []
    },
    {
      "cell_type": "code",
      "source": [
        "df_clean=impute_num(df_clean,'Num_Bank_Accounts')"
      ],
      "metadata": {
        "colab": {
          "base_uri": "https://localhost:8080/"
        },
        "id": "VCOuRmZGBACw",
        "outputId": "63275999-4026-4696-ecae-2d2bcde00ca9"
      },
      "execution_count": null,
      "outputs": [
        {
          "output_type": "stream",
          "name": "stdout",
          "text": [
            "# of missing values in Num_Bank_Accounts after step 1 is 992\n",
            "# of missing values in Num_Bank_Accounts after step 2 (bfill) is 147\n",
            "# of missing values in Num_Bank_Accounts after step 2 (ffill) is 0\n"
          ]
        }
      ]
    },
    {
      "cell_type": "markdown",
      "source": [
        "**Num_of_Loan**\n",
        "* This feature has negatives values (min=-100) but positive values were expected. Also, it has extremely high values (max=1496 but 99% percentile=9)\n",
        "* The values that are negative or larger than 9 will be considered extraneous and will be replaced by Nan and then will be imputed.\n"
      ],
      "metadata": {
        "id": "QfNwcKjRBRpz"
      }
    },
    {
      "cell_type": "code",
      "source": [
        "df_clean['Num_of_Loan'].describe([0.01,0.25,0.75,0.95,0.99])"
      ],
      "metadata": {
        "colab": {
          "base_uri": "https://localhost:8080/"
        },
        "id": "GcTq-wlrBW7b",
        "outputId": "83301d95-2c94-4122-8f05-850b8d47841d"
      },
      "execution_count": null,
      "outputs": [
        {
          "output_type": "execute_result",
          "data": {
            "text/plain": [
              "count    97132.000000\n",
              "mean         2.950428\n",
              "std         62.428929\n",
              "min       -100.000000\n",
              "1%        -100.000000\n",
              "25%          1.000000\n",
              "50%          3.000000\n",
              "75%          5.000000\n",
              "95%          8.000000\n",
              "99%          9.000000\n",
              "max       1496.000000\n",
              "Name: Num_of_Loan, dtype: float64"
            ]
          },
          "metadata": {},
          "execution_count": 103
        }
      ]
    },
    {
      "cell_type": "code",
      "source": [
        "lower_bound=0\n",
        "upper_bound=9\n",
        "df_clean['Num_of_Loan']=df_clean['Num_of_Loan'].apply(lambda x: np.nan if x<lower_bound or x>upper_bound else x)"
      ],
      "metadata": {
        "id": "u1Y9PMOECy_D"
      },
      "execution_count": null,
      "outputs": []
    },
    {
      "cell_type": "code",
      "source": [
        "df_clean=impute_num(df_clean,'Num_of_Loan')"
      ],
      "metadata": {
        "colab": {
          "base_uri": "https://localhost:8080/"
        },
        "id": "opIi0YvZDHO9",
        "outputId": "b5f1d9a7-98c7-4d88-e203-d62d54321a52"
      },
      "execution_count": null,
      "outputs": [
        {
          "output_type": "stream",
          "name": "stdout",
          "text": [
            "# of missing values in Num_of_Loan after step 1 is 4219\n",
            "# of missing values in Num_of_Loan after step 2 (bfill) is 584\n",
            "# of missing values in Num_of_Loan after step 2 (ffill) is 0\n"
          ]
        }
      ]
    },
    {
      "cell_type": "markdown",
      "source": [
        "**Delay_from_due_date**\n",
        "* This feature has negative values (min=-5) but positive were expected. The negative values will be replaced by Nan and will be imputed."
      ],
      "metadata": {
        "id": "oy7vk2AkEgsv"
      }
    },
    {
      "cell_type": "code",
      "source": [
        "df_clean['Delay_from_due_date'].describe([0.01,0.25,0.75,0.95,0.99])"
      ],
      "metadata": {
        "colab": {
          "base_uri": "https://localhost:8080/"
        },
        "id": "rg990wDaEXUX",
        "outputId": "1fd1448c-8c1d-4762-f068-6123bbeade46"
      },
      "execution_count": null,
      "outputs": [
        {
          "output_type": "execute_result",
          "data": {
            "text/plain": [
              "count    97132.000000\n",
              "mean        21.034788\n",
              "std         14.856056\n",
              "min         -5.000000\n",
              "1%           0.000000\n",
              "25%         10.000000\n",
              "50%         18.000000\n",
              "75%         28.000000\n",
              "95%         54.000000\n",
              "99%         61.000000\n",
              "max         67.000000\n",
              "Name: Delay_from_due_date, dtype: float64"
            ]
          },
          "metadata": {},
          "execution_count": 108
        }
      ]
    },
    {
      "cell_type": "code",
      "source": [
        "lower_bound=0\n",
        "df_clean['Delay_from_due_date']=df_clean['Delay_from_due_date'].apply(lambda x: np.nan if x<lower_bound  else x)"
      ],
      "metadata": {
        "id": "DToQsijZE-Iq"
      },
      "execution_count": null,
      "outputs": []
    },
    {
      "cell_type": "code",
      "source": [
        "df_clean=impute_num(df_clean,'Delay_from_due_date')"
      ],
      "metadata": {
        "colab": {
          "base_uri": "https://localhost:8080/"
        },
        "id": "G0RYmZfVFVyb",
        "outputId": "8bafa555-7cc7-4d12-8039-86a740a19ae8"
      },
      "execution_count": null,
      "outputs": [
        {
          "output_type": "stream",
          "name": "stdout",
          "text": [
            "# of missing values in Delay_from_due_date after step 1 is 573\n",
            "# of missing values in Delay_from_due_date after step 2 (bfill) is 93\n",
            "# of missing values in Delay_from_due_date after step 2 (ffill) is 0\n"
          ]
        }
      ]
    },
    {
      "cell_type": "markdown",
      "source": [
        "**Num_Credit_Card**\n",
        "* The values larger than 849 will be considered extraneous and will be replaced by NaN and then\n",
        "they will be imputed."
      ],
      "metadata": {
        "id": "Pt4zAAxMFjLs"
      }
    },
    {
      "cell_type": "code",
      "source": [
        "df_clean['Num_Credit_Card'].describe([0.01,0.25,0.75,0.95,0.99])"
      ],
      "metadata": {
        "colab": {
          "base_uri": "https://localhost:8080/"
        },
        "id": "5axcIy3nFh0-",
        "outputId": "68ff3b41-8059-4ffb-8888-ff4e49ecf631"
      },
      "execution_count": null,
      "outputs": [
        {
          "output_type": "execute_result",
          "data": {
            "text/plain": [
              "count    97132.000000\n",
              "mean        22.457058\n",
              "std        129.030525\n",
              "min          0.000000\n",
              "1%           1.000000\n",
              "25%          4.000000\n",
              "50%          5.000000\n",
              "75%          7.000000\n",
              "95%         10.000000\n",
              "99%        848.690000\n",
              "max       1499.000000\n",
              "Name: Num_Credit_Card, dtype: float64"
            ]
          },
          "metadata": {},
          "execution_count": 111
        }
      ]
    },
    {
      "cell_type": "code",
      "source": [
        "upper_bound=849\n",
        "df_clean['Num_Credit_Card']=df_clean['Num_Credit_Card'].apply(lambda x: np.nan if x>upper_bound  else x)"
      ],
      "metadata": {
        "id": "flWkKe8JGZYm"
      },
      "execution_count": null,
      "outputs": []
    },
    {
      "cell_type": "code",
      "source": [
        "df_clean=impute_num(df_clean,'Num_Credit_Card')"
      ],
      "metadata": {
        "colab": {
          "base_uri": "https://localhost:8080/"
        },
        "id": "Xj5x_t4eG-7M",
        "outputId": "f6b7e4cf-d303-4eab-bab6-42746541e236"
      },
      "execution_count": null,
      "outputs": [
        {
          "output_type": "stream",
          "name": "stdout",
          "text": [
            "# of missing values in Num_Credit_Card after step 1 is 964\n",
            "# of missing values in Num_Credit_Card after step 2 (bfill) is 134\n",
            "# of missing values in Num_Credit_Card after step 2 (ffill) is 0\n"
          ]
        }
      ]
    },
    {
      "cell_type": "markdown",
      "source": [
        "**Interest_Rate**\n",
        "* The values that are large than 124 will be considered extraneous andwill be replaced by Nan and then they will be imputed."
      ],
      "metadata": {
        "id": "sfR4ze1THQ4-"
      }
    },
    {
      "cell_type": "code",
      "source": [
        "df_clean['Interest_Rate'].describe([0.01,0.25,0.75,0.95,0.97,0.98,0.99])"
      ],
      "metadata": {
        "colab": {
          "base_uri": "https://localhost:8080/"
        },
        "id": "yBBycrxlHY3-",
        "outputId": "f2a621bd-6028-443e-96f8-ec771fa23469"
      },
      "execution_count": null,
      "outputs": [
        {
          "output_type": "execute_result",
          "data": {
            "text/plain": [
              "count    97132.000000\n",
              "mean        72.334112\n",
              "std        465.600171\n",
              "min          1.000000\n",
              "1%           1.000000\n",
              "25%          8.000000\n",
              "50%         13.000000\n",
              "75%         20.000000\n",
              "95%         33.000000\n",
              "97%         34.000000\n",
              "98%        123.040000\n",
              "99%       2845.210000\n",
              "max       5797.000000\n",
              "Name: Interest_Rate, dtype: float64"
            ]
          },
          "metadata": {},
          "execution_count": 118
        }
      ]
    },
    {
      "cell_type": "code",
      "source": [
        "upper_bound=124\n",
        "df_clean['Interest_Rate']=df_clean['Interest_Rate'].apply(lambda x: np.nan if x>upper_bound  else x)"
      ],
      "metadata": {
        "id": "548uByr-IWy3"
      },
      "execution_count": null,
      "outputs": []
    },
    {
      "cell_type": "code",
      "source": [
        "df_clean=impute_num(df_clean,'Interest_Rate')"
      ],
      "metadata": {
        "colab": {
          "base_uri": "https://localhost:8080/"
        },
        "id": "XaWaUwR-IyHi",
        "outputId": "613d1d6a-242b-4949-e758-3bed31610ae7"
      },
      "execution_count": null,
      "outputs": [
        {
          "output_type": "stream",
          "name": "stdout",
          "text": [
            "# of missing values in Interest_Rate after step 1 is 1943\n",
            "# of missing values in Interest_Rate after step 2 (bfill) is 258\n",
            "# of missing values in Interest_Rate after step 2 (ffill) is 0\n"
          ]
        }
      ]
    },
    {
      "cell_type": "code",
      "source": [
        "#df_clean.to_csv('clean_data',index=False)"
      ],
      "metadata": {
        "id": "tQdcIFb1JHAT"
      },
      "execution_count": null,
      "outputs": []
    },
    {
      "cell_type": "code",
      "source": [
        "df_clean.isna().sum()"
      ],
      "metadata": {
        "colab": {
          "base_uri": "https://localhost:8080/"
        },
        "id": "3IboCIOgN1F6",
        "outputId": "0c8f30fc-5281-47fa-e87a-aea1927f36f4"
      },
      "execution_count": null,
      "outputs": [
        {
          "output_type": "execute_result",
          "data": {
            "text/plain": [
              "Customer_ID                 0\n",
              "Month                       0\n",
              "Age                         0\n",
              "Occupation                  0\n",
              "Annual_Income               0\n",
              "Monthly_Inhand_Salary       0\n",
              "Num_Bank_Accounts           0\n",
              "Num_Credit_Card             0\n",
              "Interest_Rate               0\n",
              "Num_of_Loan                 0\n",
              "Type_of_Loan                0\n",
              "Delay_from_due_date         0\n",
              "Num_of_Delayed_Payment      0\n",
              "Changed_Credit_Limit        0\n",
              "Num_Credit_Inquiries        0\n",
              "Credit_Mix                  0\n",
              "Outstanding_Debt            0\n",
              "Credit_Utilization_Ratio    0\n",
              "Credit_History_Age          0\n",
              "Payment_of_Min_Amount       0\n",
              "Total_EMI_per_month         0\n",
              "Amount_invested_monthly     0\n",
              "Payment_Behaviour           0\n",
              "Monthly_Balance             0\n",
              "Credit_Score                0\n",
              "dtype: int64"
            ]
          },
          "metadata": {},
          "execution_count": 123
        }
      ]
    },
    {
      "cell_type": "markdown",
      "source": [
        "### Data Transformation"
      ],
      "metadata": {
        "id": "nuCmTa4xZC_E"
      }
    },
    {
      "cell_type": "code",
      "source": [
        "#df_clean=pd.read_csv('/content/drive/MyDrive/Colab Notebooks/clean_data')"
      ],
      "metadata": {
        "id": "pbKZrJeqJiYh"
      },
      "execution_count": null,
      "outputs": []
    },
    {
      "cell_type": "markdown",
      "source": [
        "**Payment_Behaviour**\n",
        "* This feature describes spending behaviour of the customer and and paying behaviour.\n",
        "* The unique values of the behaviour are: Low_spent_Small_value_payments, High_spent_Medium_value_payments    \n",
        "Low_spent_Medium_value_payments     \n",
        "High_spent_Large_value_payments     \n",
        "High_spent_Small_value_payments     \n",
        "Low_spent_Large_value_payments \n",
        "* We want to describe each behaviour separately: \n",
        "  * We will create one column called Spend for spending behaviour (with values Low, High) and another called Pay for paying behaviour (with values, Small, Medium, Large)"
      ],
      "metadata": {
        "id": "-rJgyDf8dE4s"
      }
    },
    {
      "cell_type": "code",
      "source": [
        "df_clean['Spend']=df_clean['Payment_Behaviour'].str.split('_').str[0]\n",
        "df_clean['Pay']=df_clean['Payment_Behaviour'].str.split('_').str[2]\n"
      ],
      "metadata": {
        "id": "CZRWiGKoKEI6"
      },
      "execution_count": null,
      "outputs": []
    },
    {
      "cell_type": "markdown",
      "source": [
        "**Type_of_Loan**\n",
        "* The column `Type_of_Loan` contains the loans that each customer has been given.\n",
        "* Extract all the loans from `Type_of_Loan`. For each such loan create a separate column."
      ],
      "metadata": {
        "id": "ePvLDrgoZWBF"
      }
    },
    {
      "cell_type": "code",
      "source": [
        "#Extract all the loans\n",
        "loans=set()\n",
        "for element in df_clean['Type_of_Loan']:\n",
        "  try:#\n",
        "      for loan in element.split(','):\n",
        "        if 'and ' not in loan.strip():\n",
        "          loans.add(loan.strip())\n",
        "        else:\n",
        "          loans.add(loan.split('and ')[1].strip())\n",
        "  except:\n",
        "    pass\n",
        "\n",
        "print('The different types of loans are:\\n ')\n",
        "for loan in loans:\n",
        "  print(loan)"
      ],
      "metadata": {
        "id": "cvJmPOCptkti",
        "colab": {
          "base_uri": "https://localhost:8080/"
        },
        "outputId": "5fc122ed-f6b1-401c-b3a6-6664813cdaeb"
      },
      "execution_count": null,
      "outputs": [
        {
          "output_type": "stream",
          "name": "stdout",
          "text": [
            "The different types of loans are:\n",
            " \n",
            "Mortgage Loan\n",
            "Payday Loan\n",
            "Credit-Builder Loan\n",
            "Personal Loan\n",
            "Student Loan\n",
            "Debt Consolidation Loan\n",
            "Home Equity Loan\n",
            "Auto Loan\n",
            "Not Specified\n"
          ]
        }
      ]
    },
    {
      "cell_type": "code",
      "source": [
        "#For each loan create a column indicating whether the corresponding person\n",
        "#got such loan or not. 1-->True, 0-->False\n",
        "for loan in loans:\n",
        "  df_clean[loan]=df_clean['Type_of_Loan'].str.contains(loan).map({False:0,True:1})"
      ],
      "metadata": {
        "id": "-agLdwTPbIxR"
      },
      "execution_count": null,
      "outputs": []
    },
    {
      "cell_type": "code",
      "source": [
        "#Check the new columns just created.\n",
        "df_clean[list(loans)].sample(5)"
      ],
      "metadata": {
        "id": "NvUY_eWzbgIm",
        "colab": {
          "base_uri": "https://localhost:8080/",
          "height": 285
        },
        "outputId": "6f660ec4-5a4e-4d8a-e50b-d14c394a9ce2"
      },
      "execution_count": null,
      "outputs": [
        {
          "output_type": "execute_result",
          "data": {
            "text/plain": [
              "       Mortgage Loan  Payday Loan  Credit-Builder Loan  Personal Loan  \\\n",
              "46659              0            0                    0              0   \n",
              "80657              1            0                    0              0   \n",
              "82251              1            0                    1              0   \n",
              "95661              0            1                    0              0   \n",
              "47023              0            0                    0              0   \n",
              "\n",
              "       Student Loan  Debt Consolidation Loan  Home Equity Loan  Auto Loan  \\\n",
              "46659             0                        1                 0          0   \n",
              "80657             0                        0                 0          1   \n",
              "82251             0                        0                 0          0   \n",
              "95661             0                        0                 1          0   \n",
              "47023             0                        0                 0          0   \n",
              "\n",
              "       Not Specified  \n",
              "46659              0  \n",
              "80657              0  \n",
              "82251              0  \n",
              "95661              1  \n",
              "47023              1  "
            ],
            "text/html": [
              "\n",
              "  <div id=\"df-e1d490d0-900e-4699-90b2-a186bd3317e4\">\n",
              "    <div class=\"colab-df-container\">\n",
              "      <div>\n",
              "<style scoped>\n",
              "    .dataframe tbody tr th:only-of-type {\n",
              "        vertical-align: middle;\n",
              "    }\n",
              "\n",
              "    .dataframe tbody tr th {\n",
              "        vertical-align: top;\n",
              "    }\n",
              "\n",
              "    .dataframe thead th {\n",
              "        text-align: right;\n",
              "    }\n",
              "</style>\n",
              "<table border=\"1\" class=\"dataframe\">\n",
              "  <thead>\n",
              "    <tr style=\"text-align: right;\">\n",
              "      <th></th>\n",
              "      <th>Mortgage Loan</th>\n",
              "      <th>Payday Loan</th>\n",
              "      <th>Credit-Builder Loan</th>\n",
              "      <th>Personal Loan</th>\n",
              "      <th>Student Loan</th>\n",
              "      <th>Debt Consolidation Loan</th>\n",
              "      <th>Home Equity Loan</th>\n",
              "      <th>Auto Loan</th>\n",
              "      <th>Not Specified</th>\n",
              "    </tr>\n",
              "  </thead>\n",
              "  <tbody>\n",
              "    <tr>\n",
              "      <th>46659</th>\n",
              "      <td>0</td>\n",
              "      <td>0</td>\n",
              "      <td>0</td>\n",
              "      <td>0</td>\n",
              "      <td>0</td>\n",
              "      <td>1</td>\n",
              "      <td>0</td>\n",
              "      <td>0</td>\n",
              "      <td>0</td>\n",
              "    </tr>\n",
              "    <tr>\n",
              "      <th>80657</th>\n",
              "      <td>1</td>\n",
              "      <td>0</td>\n",
              "      <td>0</td>\n",
              "      <td>0</td>\n",
              "      <td>0</td>\n",
              "      <td>0</td>\n",
              "      <td>0</td>\n",
              "      <td>1</td>\n",
              "      <td>0</td>\n",
              "    </tr>\n",
              "    <tr>\n",
              "      <th>82251</th>\n",
              "      <td>1</td>\n",
              "      <td>0</td>\n",
              "      <td>1</td>\n",
              "      <td>0</td>\n",
              "      <td>0</td>\n",
              "      <td>0</td>\n",
              "      <td>0</td>\n",
              "      <td>0</td>\n",
              "      <td>0</td>\n",
              "    </tr>\n",
              "    <tr>\n",
              "      <th>95661</th>\n",
              "      <td>0</td>\n",
              "      <td>1</td>\n",
              "      <td>0</td>\n",
              "      <td>0</td>\n",
              "      <td>0</td>\n",
              "      <td>0</td>\n",
              "      <td>1</td>\n",
              "      <td>0</td>\n",
              "      <td>1</td>\n",
              "    </tr>\n",
              "    <tr>\n",
              "      <th>47023</th>\n",
              "      <td>0</td>\n",
              "      <td>0</td>\n",
              "      <td>0</td>\n",
              "      <td>0</td>\n",
              "      <td>0</td>\n",
              "      <td>0</td>\n",
              "      <td>0</td>\n",
              "      <td>0</td>\n",
              "      <td>1</td>\n",
              "    </tr>\n",
              "  </tbody>\n",
              "</table>\n",
              "</div>\n",
              "      <button class=\"colab-df-convert\" onclick=\"convertToInteractive('df-e1d490d0-900e-4699-90b2-a186bd3317e4')\"\n",
              "              title=\"Convert this dataframe to an interactive table.\"\n",
              "              style=\"display:none;\">\n",
              "        \n",
              "  <svg xmlns=\"http://www.w3.org/2000/svg\" height=\"24px\"viewBox=\"0 0 24 24\"\n",
              "       width=\"24px\">\n",
              "    <path d=\"M0 0h24v24H0V0z\" fill=\"none\"/>\n",
              "    <path d=\"M18.56 5.44l.94 2.06.94-2.06 2.06-.94-2.06-.94-.94-2.06-.94 2.06-2.06.94zm-11 1L8.5 8.5l.94-2.06 2.06-.94-2.06-.94L8.5 2.5l-.94 2.06-2.06.94zm10 10l.94 2.06.94-2.06 2.06-.94-2.06-.94-.94-2.06-.94 2.06-2.06.94z\"/><path d=\"M17.41 7.96l-1.37-1.37c-.4-.4-.92-.59-1.43-.59-.52 0-1.04.2-1.43.59L10.3 9.45l-7.72 7.72c-.78.78-.78 2.05 0 2.83L4 21.41c.39.39.9.59 1.41.59.51 0 1.02-.2 1.41-.59l7.78-7.78 2.81-2.81c.8-.78.8-2.07 0-2.86zM5.41 20L4 18.59l7.72-7.72 1.47 1.35L5.41 20z\"/>\n",
              "  </svg>\n",
              "      </button>\n",
              "      \n",
              "  <style>\n",
              "    .colab-df-container {\n",
              "      display:flex;\n",
              "      flex-wrap:wrap;\n",
              "      gap: 12px;\n",
              "    }\n",
              "\n",
              "    .colab-df-convert {\n",
              "      background-color: #E8F0FE;\n",
              "      border: none;\n",
              "      border-radius: 50%;\n",
              "      cursor: pointer;\n",
              "      display: none;\n",
              "      fill: #1967D2;\n",
              "      height: 32px;\n",
              "      padding: 0 0 0 0;\n",
              "      width: 32px;\n",
              "    }\n",
              "\n",
              "    .colab-df-convert:hover {\n",
              "      background-color: #E2EBFA;\n",
              "      box-shadow: 0px 1px 2px rgba(60, 64, 67, 0.3), 0px 1px 3px 1px rgba(60, 64, 67, 0.15);\n",
              "      fill: #174EA6;\n",
              "    }\n",
              "\n",
              "    [theme=dark] .colab-df-convert {\n",
              "      background-color: #3B4455;\n",
              "      fill: #D2E3FC;\n",
              "    }\n",
              "\n",
              "    [theme=dark] .colab-df-convert:hover {\n",
              "      background-color: #434B5C;\n",
              "      box-shadow: 0px 1px 3px 1px rgba(0, 0, 0, 0.15);\n",
              "      filter: drop-shadow(0px 1px 2px rgba(0, 0, 0, 0.3));\n",
              "      fill: #FFFFFF;\n",
              "    }\n",
              "  </style>\n",
              "\n",
              "      <script>\n",
              "        const buttonEl =\n",
              "          document.querySelector('#df-e1d490d0-900e-4699-90b2-a186bd3317e4 button.colab-df-convert');\n",
              "        buttonEl.style.display =\n",
              "          google.colab.kernel.accessAllowed ? 'block' : 'none';\n",
              "\n",
              "        async function convertToInteractive(key) {\n",
              "          const element = document.querySelector('#df-e1d490d0-900e-4699-90b2-a186bd3317e4');\n",
              "          const dataTable =\n",
              "            await google.colab.kernel.invokeFunction('convertToInteractive',\n",
              "                                                     [key], {});\n",
              "          if (!dataTable) return;\n",
              "\n",
              "          const docLinkHtml = 'Like what you see? Visit the ' +\n",
              "            '<a target=\"_blank\" href=https://colab.research.google.com/notebooks/data_table.ipynb>data table notebook</a>'\n",
              "            + ' to learn more about interactive tables.';\n",
              "          element.innerHTML = '';\n",
              "          dataTable['output_type'] = 'display_data';\n",
              "          await google.colab.output.renderOutput(dataTable, element);\n",
              "          const docLink = document.createElement('div');\n",
              "          docLink.innerHTML = docLinkHtml;\n",
              "          element.appendChild(docLink);\n",
              "        }\n",
              "      </script>\n",
              "    </div>\n",
              "  </div>\n",
              "  "
            ]
          },
          "metadata": {},
          "execution_count": 10
        }
      ]
    },
    {
      "cell_type": "code",
      "source": [
        "#Drop Payment_Behaviour, Type_of_Loan\n",
        "df_clean=df_clean.drop(columns=['Payment_Behaviour','Type_of_Loan'])"
      ],
      "metadata": {
        "id": "AI-3x4wRpO8_"
      },
      "execution_count": null,
      "outputs": []
    },
    {
      "cell_type": "markdown",
      "source": [
        "**Credit_Score**\n",
        "* Our target `Credit_Score` has thre unique values: Poor,Standard, Good. We will transform this variable according to the following rule:\n",
        "Poor-->0, Standard-->1, Good-->2\n",
        "    \n",
        "        "
      ],
      "metadata": {
        "id": "vJl2EpJ_ogky"
      }
    },
    {
      "cell_type": "code",
      "source": [
        "#Transform Credit_Score\n",
        "df_clean['Credit_Score']=df_clean['Credit_Score'].map({'Poor':0,\n",
        "                                                       'Standard':1,\n",
        "                                                       'Good':2})"
      ],
      "metadata": {
        "id": "bSjVvFXStV3y"
      },
      "execution_count": null,
      "outputs": []
    },
    {
      "cell_type": "markdown",
      "source": [
        "### Feature Engineering"
      ],
      "metadata": {
        "id": "sCfdimw1lg-o"
      }
    },
    {
      "cell_type": "markdown",
      "source": [
        "* Define the target variable and the features (data)\n",
        "* Split the data in train and test set based on Customer_ID\n",
        "* We will create a function call `load data` to accomplish this task.\n",
        "* After applying our function we get: X_train,X_test,y_train,y_test.\n",
        "* Finally we get X_train_num (training set with numerical features), X_train_cat (training set with categorical features) and X_test_num, X_test_cat"
      ],
      "metadata": {
        "id": "4Lpo4UT60DuR"
      }
    },
    {
      "cell_type": "code",
      "source": [
        "target=df_clean[['Customer_ID','Credit_Score']] #we keep Cutomers Id for the moment\n",
        "data=df_clean.drop(columns=['Credit_Score'])"
      ],
      "metadata": {
        "id": "RBDd2Gpu57LL"
      },
      "execution_count": null,
      "outputs": []
    },
    {
      "cell_type": "code",
      "source": [
        "def load_data(data,target,train_size=0.8,seed=123):\n",
        "  unique_vals=data['Customer_ID'].unique()#unique customers ids\n",
        "  df_cust=pd.DataFrame(unique_vals,columns=['Unique_Customers'])#dataframe with \n",
        "  #unique customers\n",
        "  train=df_cust.sample(frac=train_size,random_state=seed)\n",
        "  train_indices=train.set_index('Unique_Customers').index\n",
        "  train_indices=set(train_indices) #want to take advantage of the set operations\n",
        "  test_indices=set(unique_vals).difference(train_indices)\n",
        "  data_train=data.set_index('Customer_ID').loc[train_indices]\n",
        "  data_test=data.set_index('Customer_ID').loc[test_indices]\n",
        "  target_train=target.set_index('Customer_ID').loc[train_indices]\n",
        "  target_test=target.set_index('Customer_ID').loc[test_indices]\n",
        "  return data_train,data_test,target_train,target_test"
      ],
      "metadata": {
        "id": "6J7aTAta5msY"
      },
      "execution_count": null,
      "outputs": []
    },
    {
      "cell_type": "markdown",
      "source": [
        "* Use 60% for training set and 40% for test set."
      ],
      "metadata": {
        "id": "fHgxnRFzJ95v"
      }
    },
    {
      "cell_type": "code",
      "source": [
        "#split the data in train and test\n",
        "train_size=0.6\n",
        "seed=123\n",
        "X_train,X_test,y_train,y_test=load_data(data,\n",
        "                                        target,\n",
        "                                        train_size=train_size,\n",
        "                                        seed=seed)"
      ],
      "metadata": {
        "id": "9Pe9Sey65UGK"
      },
      "execution_count": null,
      "outputs": []
    },
    {
      "cell_type": "markdown",
      "source": [
        "* Let's drop `Customer_ID` now"
      ],
      "metadata": {
        "id": "MXgJjgApRFcb"
      }
    },
    {
      "cell_type": "code",
      "source": [
        "X_train=X_train.reset_index('Customer_ID').drop(columns=['Customer_ID'])\n",
        "X_test=X_test.reset_index('Customer_ID').drop(columns=['Customer_ID'])\n",
        "y_train=y_train.reset_index('Customer_ID').drop(columns=['Customer_ID'])\n",
        "y_test=y_test.reset_index('Customer_ID').drop(columns=['Customer_ID'])"
      ],
      "metadata": {
        "id": "7fB9nF7tQ2o9"
      },
      "execution_count": null,
      "outputs": []
    },
    {
      "cell_type": "code",
      "source": [
        "#Get numerical training and test set and categorical training and test set\n",
        "X_train_num=X_train.select_dtypes(exclude='object')#returns dataframe\n",
        "X_train_cat=X_train.select_dtypes(include='object')#returns dataframe\n",
        "X_test_num=X_test.select_dtypes(exclude='object')#returns dataframe\n",
        "X_test_cat=X_test.select_dtypes(include='object')#returns dataframe"
      ],
      "metadata": {
        "id": "kdlODvuzQ6dm"
      },
      "execution_count": null,
      "outputs": []
    },
    {
      "cell_type": "markdown",
      "source": [
        "* We treat the features `Month`, `Spend` and `Pay` as ordinal features and the other ones as nominal.\n",
        "* We create the dataframes X_train_cat_ord, X_test_cat_ord which has only ordinal features.Then we create the dataframes X_train_cat_nom X_test_cat_nom which has only nominal features.\n",
        "* Apply OrdinalEncoder for ordinal features and OneHotEncoder for nominal features."
      ],
      "metadata": {
        "id": "3t0bTjNbWJnp"
      }
    },
    {
      "cell_type": "code",
      "source": [
        "ordinal_features=['Month','Spend','Pay','Credit_Mix']\n",
        "nominal_features=['Occupation','Payment_of_Min_Amount']\n",
        "X_train_cat_ord=X_train_cat[ordinal_features]\n",
        "X_train_cat_nom=X_train_cat[nominal_features]\n",
        "X_test_cat_ord=X_test_cat[ordinal_features]\n",
        "X_test_cat_nom=X_test_cat[nominal_features]\n"
      ],
      "metadata": {
        "id": "LSCEPrzEb0pd"
      },
      "execution_count": null,
      "outputs": []
    },
    {
      "cell_type": "markdown",
      "source": [
        "* Transform the ordinal features"
      ],
      "metadata": {
        "id": "VG9qJzrJgdQB"
      }
    },
    {
      "cell_type": "code",
      "source": [
        "oe=OrdinalEncoder(categories=[\n",
        "    ['January','February','March','April','May','June','July','August'],\n",
        "    ['Low','High'],\n",
        "    ['Small','Medium','Large'],\n",
        "    ['Bad','Standard','Good']])\n",
        "X_train_cat_ord=oe.fit_transform(X_train_cat_ord)#returns array\n",
        "X_test_cat_ord=oe.transform(X_test_cat_ord)#returns array\n"
      ],
      "metadata": {
        "id": "juycJiQuV9zc"
      },
      "execution_count": null,
      "outputs": []
    },
    {
      "cell_type": "markdown",
      "source": [
        "* Transform the nominal features"
      ],
      "metadata": {
        "id": "ub1qVPcBg6Zf"
      }
    },
    {
      "cell_type": "code",
      "source": [
        "ohe=OneHotEncoder(drop='first',handle_unknown='ignore',sparse=False)\n",
        "X_train_cat_nom=ohe.fit_transform(X_train_cat_nom)#returns array\n",
        "X_test_cat_nom=ohe.transform(X_test_cat_nom)#returns array"
      ],
      "metadata": {
        "id": "c6vbC_hebmGW"
      },
      "execution_count": null,
      "outputs": []
    },
    {
      "cell_type": "markdown",
      "source": [
        "* Combine the X_train_cat_ord and X_train_cat_nom into X_train_cat\n",
        "* Then combine X_test_cat_ord and X_test_cat_nom into X_test_cat\n"
      ],
      "metadata": {
        "id": "Hpu0wX0Or-Hx"
      }
    },
    {
      "cell_type": "code",
      "source": [
        "X_train_cat=np.append(X_train_cat_ord,X_train_cat_nom,axis=1)\n",
        "X_test_cat=np.append(X_test_cat_ord,X_test_cat_nom,axis=1)"
      ],
      "metadata": {
        "id": "1J7n0IyRqm2T"
      },
      "execution_count": null,
      "outputs": []
    },
    {
      "cell_type": "markdown",
      "source": [
        "* Combine X_train_num and X_train_cat to get X_train.\n",
        "* Combine X_test_num and X_train_cat to get X_teste \n",
        "* Turn the dataframe y_train into  y_train array and y_test dataframe into y_test array"
      ],
      "metadata": {
        "id": "mAUWNwmnt7D9"
      }
    },
    {
      "cell_type": "code",
      "source": [
        "X_train=np.append(X_train_num.values,X_train_cat,axis=1)\n",
        "X_test=np.append(X_test_num.values,X_test_cat,axis=1)\n",
        "y_train=y_train.values.ravel()\n",
        "y_test=y_test.values.ravel()"
      ],
      "metadata": {
        "id": "xGMQC3eXtmjP"
      },
      "execution_count": null,
      "outputs": []
    },
    {
      "cell_type": "markdown",
      "source": [
        "### Models\n",
        "* RandomForest \n",
        "* XGBoost\n",
        "* Use GridSearchCV or RandomsearchCV for hyperparameter tuning.\n",
        "* We treat our problem as a classification problem. Although it can be treated as regression problem as well."
      ],
      "metadata": {
        "id": "U0ZQ2GQLvDr4"
      }
    },
    {
      "cell_type": "markdown",
      "source": [
        "**RandomForestClassifier**\n",
        "* Try a basic random forest model without hyperparameter tuning.\n",
        "* The parameter class_weight(below) is set to 'balanced' that helps us deal with class imbalance. The formula for computing the weights is given by $$\\text{weights}=\\frac{\\text{total observations}}{\\text{number of classes}*\\text{observations in class}}$$"
      ],
      "metadata": {
        "id": "uA6FjoTgD17E"
      }
    },
    {
      "cell_type": "code",
      "source": [
        "#basic model\n",
        "seed=123\n",
        "rf=RandomForestClassifier(ccp_alpha=0,\n",
        "                          max_depth=20,\n",
        "                          min_samples_split=5,\n",
        "                          n_estimators=200,\n",
        "                          class_weight='balanced',#taking into a ccount unbalanced data\n",
        "                          oob_score=True,#out of bag score\n",
        "                          random_state=seed)\n",
        "\n"
      ],
      "metadata": {
        "id": "tlfwzvse5-DK"
      },
      "execution_count": null,
      "outputs": []
    },
    {
      "cell_type": "code",
      "source": [
        "rf.fit(X_train,y_train)\n",
        "y_pred=rf.predict(X_train)\n",
        "training_score=accuracy_score(y_train,y_pred,normalize=True)\n",
        "print(f'The training accuracy_score is {training_score}')"
      ],
      "metadata": {
        "colab": {
          "base_uri": "https://localhost:8080/"
        },
        "id": "FqiSORPFC4BA",
        "outputId": "885db563-d851-45c2-c43d-2c1bdb94bac0"
      },
      "execution_count": null,
      "outputs": [
        {
          "output_type": "stream",
          "name": "stdout",
          "text": [
            "The training accuracy_score is 0.9128525355108763\n"
          ]
        }
      ]
    },
    {
      "cell_type": "markdown",
      "source": [
        "* One way to estimate the generalization error is to use out of bag score (we passed the parameter oob_score=True). This accuracy score is computed in each iteration during the bagging process on the observations which did not particiapte during the fitting process."
      ],
      "metadata": {
        "id": "eWCg8496I5Fo"
      }
    },
    {
      "cell_type": "code",
      "source": [
        "print(f'The out of bage score is {rf.oob_score_}')"
      ],
      "metadata": {
        "colab": {
          "base_uri": "https://localhost:8080/"
        },
        "id": "20Vx6iRQIclH",
        "outputId": "5fb33fa0-a810-4161-bd6a-55df78cab38d"
      },
      "execution_count": null,
      "outputs": [
        {
          "output_type": "stream",
          "name": "stdout",
          "text": [
            "The out of bage score is 0.8078467028065601\n"
          ]
        }
      ]
    },
    {
      "cell_type": "markdown",
      "source": [
        "* Compute the cross-validation score with cv=5"
      ],
      "metadata": {
        "id": "RZTnraCZKw24"
      }
    },
    {
      "cell_type": "code",
      "source": [
        "scores=cross_val_score(estimator=rf,\n",
        "                       X=X_train,\n",
        "                       y=y_train,\n",
        "                       cv=5,\n",
        "                       scoring='accuracy',\n",
        "                       n_jobs=-1)\n",
        "print(f'CV accracy scores:{scores}')\n",
        "print(f'CV_accuracy {np.mean(scores):.3f} +/-{np.std(scores):.3f}')\n"
      ],
      "metadata": {
        "colab": {
          "base_uri": "https://localhost:8080/"
        },
        "id": "OWcvj9v69J4S",
        "outputId": "8c270c1f-d329-4c84-b624-d3695c9319ec"
      },
      "execution_count": null,
      "outputs": [
        {
          "output_type": "stream",
          "name": "stdout",
          "text": [
            "CV accracy scores:[0.688481   0.67450039 0.69385829 0.69883342 0.69016984]\n",
            "CV_accuracy 0.689 +/-0.008\n"
          ]
        }
      ]
    },
    {
      "cell_type": "markdown",
      "source": [
        "**Conclusion.** The fact that the training accuracy is larger than out of bag scoreand CV accuracy suggests that we use a hyperparameter tuning."
      ],
      "metadata": {
        "id": "tWFPtMDQM8U4"
      }
    },
    {
      "cell_type": "markdown",
      "source": [
        "* RandomizedSearchCV (GridSearCV takes time!)  for RandomForestClassifier"
      ],
      "metadata": {
        "id": "qWAASuiT0i8j"
      }
    },
    {
      "cell_type": "code",
      "source": [
        "param_grid=[{'criterion':['gini','entropy'],  #Specify the param grid for GridSearchCV\n",
        "             'max_depth':range(25,35,5),\n",
        "             'n_estimators':range(350,500,50),\n",
        "             'min_samples_leaf':range(1,5)}]"
      ],
      "metadata": {
        "id": "SldDrOTdjhcq"
      },
      "execution_count": null,
      "outputs": []
    },
    {
      "cell_type": "code",
      "source": [
        "rf=RandomForestClassifier(class_weight='balanced',#helps to deal with imbalanced data\n",
        "                          random_state=seed,\n",
        "                          )#our estimator"
      ],
      "metadata": {
        "id": "69Yx2-rp1mdh"
      },
      "execution_count": null,
      "outputs": []
    },
    {
      "cell_type": "code",
      "source": [
        "rs=RandomizedSearchCV(estimator=rf,\n",
        "                param_distributions=param_grid,\n",
        "                scoring='accuracy',\n",
        "                refit=True,\n",
        "                cv=3,\n",
        "                n_iter=5,\n",
        "                n_jobs=-1,\n",
        "                random_state=seed)\n",
        "rs.fit(X_train,y_train)"
      ],
      "metadata": {
        "colab": {
          "base_uri": "https://localhost:8080/"
        },
        "id": "Z3335Yqe1sNS",
        "outputId": "9e0b5dbd-5cd6-436e-d56e-a151d82930e0"
      },
      "execution_count": null,
      "outputs": [
        {
          "output_type": "execute_result",
          "data": {
            "text/plain": [
              "RandomizedSearchCV(cv=3,\n",
              "                   estimator=RandomForestClassifier(class_weight='balanced',\n",
              "                                                    random_state=123),\n",
              "                   n_iter=5, n_jobs=-1,\n",
              "                   param_distributions=[{'criterion': ['gini', 'entropy'],\n",
              "                                         'max_depth': range(25, 35, 5),\n",
              "                                         'min_samples_leaf': range(1, 5),\n",
              "                                         'n_estimators': range(350, 500, 50)}],\n",
              "                   random_state=123, scoring='accuracy')"
            ]
          },
          "metadata": {},
          "execution_count": 59
        }
      ]
    },
    {
      "cell_type": "code",
      "source": [
        "print(f'The best parameters are {rs.best_params_}')\n",
        "print(\"*********\")\n",
        "print(f\"The best CV score is {rs.best_score_} \")"
      ],
      "metadata": {
        "colab": {
          "base_uri": "https://localhost:8080/"
        },
        "id": "Jf9HSzarHjkf",
        "outputId": "2384d800-1c1f-4e84-cc6f-fc6c880b48c5"
      },
      "execution_count": null,
      "outputs": [
        {
          "output_type": "stream",
          "name": "stdout",
          "text": [
            "The best parameters are {'n_estimators': 450, 'min_samples_leaf': 1, 'max_depth': 25, 'criterion': 'entropy'}\n",
            "*********\n",
            "The best CV score is 0.6930281926540035 \n"
          ]
        }
      ]
    },
    {
      "cell_type": "code",
      "source": [
        "#Training score\n",
        "y_pred_train=rs.predict(X_train)\n",
        "training_accuracy=accuracy_score(y_train,y_pred)\n",
        "print(f'The training accuracy is {training_accuracy}')"
      ],
      "metadata": {
        "colab": {
          "base_uri": "https://localhost:8080/"
        },
        "id": "8YX5DbtkdlrH",
        "outputId": "02a7a302-6a87-4e82-95df-1d37727e3f80"
      },
      "execution_count": null,
      "outputs": [
        {
          "output_type": "stream",
          "name": "stdout",
          "text": [
            "The training accuracy is 0.9128525355108763\n"
          ]
        }
      ]
    },
    {
      "cell_type": "markdown",
      "source": [
        "**Comment.** Just looking at the training accuracy,cv accuracy and the best params, one way to possibly imporve the performance of the model is to increasy n_estimators even further."
      ],
      "metadata": {
        "id": "5XMyHp8Aee_Q"
      }
    },
    {
      "cell_type": "markdown",
      "source": [
        "* Evalaute the performance of the model on the test set using different metrics such as recall, precision, accuracy and f1 score."
      ],
      "metadata": {
        "id": "cDIvl3MXc2Sk"
      }
    },
    {
      "cell_type": "code",
      "source": [
        "y_pred_test=rs.predict(X_test)\n",
        "print(classification_report(y_test,y_pred_test))"
      ],
      "metadata": {
        "colab": {
          "base_uri": "https://localhost:8080/"
        },
        "id": "4k7R494YQoF8",
        "outputId": "b5a91fdf-302b-4eb0-fc08-72740899822f"
      },
      "execution_count": null,
      "outputs": [
        {
          "output_type": "stream",
          "name": "stdout",
          "text": [
            "              precision    recall  f1-score   support\n",
            "\n",
            "           0       0.73      0.66      0.69     11047\n",
            "           1       0.76      0.73      0.75     20710\n",
            "           2       0.58      0.72      0.64      7083\n",
            "\n",
            "    accuracy                           0.71     38840\n",
            "   macro avg       0.69      0.71      0.69     38840\n",
            "weighted avg       0.72      0.71      0.71     38840\n",
            "\n"
          ]
        }
      ]
    },
    {
      "cell_type": "markdown",
      "source": [
        "* Let's take a look at the confusion marix"
      ],
      "metadata": {
        "id": "YroXUF7rgW9T"
      }
    },
    {
      "cell_type": "code",
      "source": [
        "plt.figure(figsize=(4,4))\n",
        "print(confusion_matrix(y_test,y_pred_test))\n",
        "plot_confusion_matrix(rs,X_test,y_test,cmap='Blues')"
      ],
      "metadata": {
        "colab": {
          "base_uri": "https://localhost:8080/",
          "height": 503
        },
        "id": "Ug60siiRQ393",
        "outputId": "8f029662-e208-480d-ad8e-cb115ea657b5"
      },
      "execution_count": null,
      "outputs": [
        {
          "output_type": "stream",
          "name": "stdout",
          "text": [
            "[[ 7305  2818   924]\n",
            " [ 2676 15217  2817]\n",
            " [   92  1898  5093]]\n"
          ]
        },
        {
          "output_type": "stream",
          "name": "stderr",
          "text": [
            "/usr/local/lib/python3.7/dist-packages/sklearn/utils/deprecation.py:87: FutureWarning: Function plot_confusion_matrix is deprecated; Function `plot_confusion_matrix` is deprecated in 1.0 and will be removed in 1.2. Use one of the class methods: ConfusionMatrixDisplay.from_predictions or ConfusionMatrixDisplay.from_estimator.\n",
            "  warnings.warn(msg, category=FutureWarning)\n"
          ]
        },
        {
          "output_type": "execute_result",
          "data": {
            "text/plain": [
              "<sklearn.metrics._plot.confusion_matrix.ConfusionMatrixDisplay at 0x7f65ce25e710>"
            ]
          },
          "metadata": {},
          "execution_count": 71
        },
        {
          "output_type": "display_data",
          "data": {
            "text/plain": [
              "<Figure size 288x288 with 0 Axes>"
            ]
          },
          "metadata": {}
        },
        {
          "output_type": "display_data",
          "data": {
            "text/plain": [
              "<Figure size 576x396 with 2 Axes>"
            ],
            "image/png": "[encoded data removed]"
          },
          "metadata": {}
        }
      ]
    },
    {
      "cell_type": "markdown",
      "source": [
        "**Conclusion.** The model does better at predicting the majority class (class=1). Among the minority classes (class=0, class=2), the model does better at predicting class=2. To improve our model we could manually manupulate class_weights via GridSearchCV/RandomSearchCV."
      ],
      "metadata": {
        "id": "ivvzRzJTmDdm"
      }
    },
    {
      "cell_type": "code",
      "source": [
        "#import joblib\n",
        "#filename = '/content/drive/MyDrive/Colab Notebooks/rs_model.sav'\n",
        "#joblib.dump(rs, filename)"
      ],
      "metadata": {
        "colab": {
          "base_uri": "https://localhost:8080/"
        },
        "id": "_mUTebvnUgJH",
        "outputId": "a553dde7-f9ba-42a2-8c01-084921f6b2a9"
      },
      "execution_count": null,
      "outputs": [
        {
          "output_type": "execute_result",
          "data": {
            "text/plain": [
              "['/content/drive/MyDrive/Colab Notebooks/rs_model.sav']"
            ]
          },
          "metadata": {},
          "execution_count": 102
        }
      ]
    },
    {
      "cell_type": "markdown",
      "source": [
        "**XGBoost**\n",
        "* We were planing to explore a wider range of parameters via RandomSearCV. But due to very time-consuming execution of this model we restricted ourselves only to very small set of parameters."
      ],
      "metadata": {
        "id": "Optq1r5VnD-e"
      }
    },
    {
      "cell_type": "code",
      "source": [
        "from sklearn.utils import class_weight\n",
        "classes_weights = class_weight.compute_sample_weight(\n",
        "    class_weight='balanced',\n",
        "    y=y_train)"
      ],
      "metadata": {
        "id": "l35ZvN6l1T6K"
      },
      "execution_count": null,
      "outputs": []
    },
    {
      "cell_type": "code",
      "source": [
        "seed=123\n",
        "model=xgb.XGBClassifier(booster='gbtree',\n",
        "                        sample_weight=classes_weights,\n",
        "                        objective='multi:softprob',eval_metric='mlogloss',seed=seed)\n"
      ],
      "metadata": {
        "id": "zA54VWFug96I"
      },
      "execution_count": null,
      "outputs": []
    },
    {
      "cell_type": "code",
      "source": [
        "param_grid=[{'max_depth':[25],\n",
        "            'reg_alpha': [2],\n",
        "            'reg_lambda':[2],\n",
        "            'n_estimators':[500]}]"
      ],
      "metadata": {
        "id": "KPe2aCrI2Blj"
      },
      "execution_count": null,
      "outputs": []
    },
    {
      "cell_type": "code",
      "source": [
        "random_xgb=RandomizedSearchCV(estimator=model,\n",
        "                              param_distributions=param_grid,\n",
        "                              n_iter=1,\n",
        "                              scoring='accuracy',\n",
        "                              cv=3,\n",
        "                              refit=True,\n",
        "                              n_jobs=-1,\n",
        "                              random_state=seed)\n",
        "random_xgb.fit(X_train,y_train)"
      ],
      "metadata": {
        "colab": {
          "base_uri": "https://localhost:8080/"
        },
        "id": "3FK2VI3x6XDs",
        "outputId": "0f079730-8e02-493d-df10-f3e7eeed31f9"
      },
      "execution_count": null,
      "outputs": [
        {
          "output_type": "execute_result",
          "data": {
            "text/plain": [
              "RandomizedSearchCV(cv=3,\n",
              "                   estimator=XGBClassifier(eval_metric='mlogloss',\n",
              "                                           objective='multi:softprob',\n",
              "                                           sample_weight=array([0.62878347, 0.62878347, 0.62878347, ..., 0.62878347, 0.62878347,\n",
              "       0.62878347]),\n",
              "                                           seed=123),\n",
              "                   n_iter=1, n_jobs=-1,\n",
              "                   param_distributions=[{'max_depth': [25],\n",
              "                                         'n_estimators': [500],\n",
              "                                         'reg_alpha': [2], 'reg_lambda': [2]}],\n",
              "                   random_state=123, scoring='accuracy')"
            ]
          },
          "metadata": {},
          "execution_count": 101
        }
      ]
    },
    {
      "cell_type": "code",
      "source": [
        "#filename = '/content/drive/MyDrive/Colab Notebooks/random_xgb.sav'\n",
        "#joblib.dump(random_xgb, filename)"
      ],
      "metadata": {
        "colab": {
          "base_uri": "https://localhost:8080/"
        },
        "id": "bTu4Xw4pX65m",
        "outputId": "4dccb5dd-a656-4753-89d2-22a6f45ee424"
      },
      "execution_count": null,
      "outputs": [
        {
          "output_type": "execute_result",
          "data": {
            "text/plain": [
              "['/content/drive/MyDrive/Colab Notebooks/random_xgb.sav']"
            ]
          },
          "metadata": {},
          "execution_count": 103
        }
      ]
    },
    {
      "cell_type": "code",
      "source": [
        "print(f'The best parameters are {random_xgb.best_params_}')#nothing new"
      ],
      "metadata": {
        "colab": {
          "base_uri": "https://localhost:8080/"
        },
        "id": "5SlOffwtYtbk",
        "outputId": "cb7e8135-10ed-44cc-b2af-b655a6d92efc"
      },
      "execution_count": null,
      "outputs": [
        {
          "output_type": "stream",
          "name": "stdout",
          "text": [
            "The best parameters are {'reg_lambda': 2, 'reg_alpha': 2, 'n_estimators': 500, 'max_depth': 25}\n"
          ]
        }
      ]
    },
    {
      "cell_type": "markdown",
      "source": [
        "* Measuring the performance of the model via recall, precision, accuracy and f1 score."
      ],
      "metadata": {
        "id": "WO7ZMsF_ZE1M"
      }
    },
    {
      "cell_type": "code",
      "source": [
        "y_pred_test_xgb=random_xgb.predict(X_test)\n",
        "print(classification_report(y_test,y_pred_test_xgb))"
      ],
      "metadata": {
        "colab": {
          "base_uri": "https://localhost:8080/"
        },
        "id": "VAXmBMdMYL9h",
        "outputId": "eec8a846-b885-40c6-ce57-d09d488c0b4b"
      },
      "execution_count": null,
      "outputs": [
        {
          "output_type": "stream",
          "name": "stdout",
          "text": [
            "              precision    recall  f1-score   support\n",
            "\n",
            "           0       0.70      0.66      0.68     11047\n",
            "           1       0.72      0.76      0.74     20710\n",
            "           2       0.60      0.57      0.59      7083\n",
            "\n",
            "    accuracy                           0.70     38840\n",
            "   macro avg       0.68      0.66      0.67     38840\n",
            "weighted avg       0.70      0.70      0.70     38840\n",
            "\n"
          ]
        }
      ]
    },
    {
      "cell_type": "code",
      "source": [
        "print(confusion_matrix(y_test,y_pred_test_xgb))\n",
        "plot_confusion_matrix(random_xgb,X_test,y_test,cmap='Blues')"
      ],
      "metadata": {
        "colab": {
          "base_uri": "https://localhost:8080/",
          "height": 485
        },
        "id": "Iukz62tUZg0_",
        "outputId": "5e13430f-f06d-496a-ec50-b939478ffe4a"
      },
      "execution_count": null,
      "outputs": [
        {
          "output_type": "stream",
          "name": "stdout",
          "text": [
            "[[ 7298  3129   620]\n",
            " [ 2962 15716  2032]\n",
            " [  168  2855  4060]]\n"
          ]
        },
        {
          "output_type": "stream",
          "name": "stderr",
          "text": [
            "/usr/local/lib/python3.7/dist-packages/sklearn/utils/deprecation.py:87: FutureWarning: Function plot_confusion_matrix is deprecated; Function `plot_confusion_matrix` is deprecated in 1.0 and will be removed in 1.2. Use one of the class methods: ConfusionMatrixDisplay.from_predictions or ConfusionMatrixDisplay.from_estimator.\n",
            "  warnings.warn(msg, category=FutureWarning)\n"
          ]
        },
        {
          "output_type": "execute_result",
          "data": {
            "text/plain": [
              "<sklearn.metrics._plot.confusion_matrix.ConfusionMatrixDisplay at 0x7f65ce174b10>"
            ]
          },
          "metadata": {},
          "execution_count": 108
        },
        {
          "output_type": "display_data",
          "data": {
            "text/plain": [
              "<Figure size 576x396 with 2 Axes>"
            ],
            "image/png": "[encoded data removed]"
          },
          "metadata": {}
        }
      ]
    },
    {
      "cell_type": "code",
      "source": [
        "plt.figure(figsize=(12,12))\n",
        "xgb.plot_importance(random_xgb.best_estimator_);"
      ],
      "metadata": {
        "colab": {
          "base_uri": "https://localhost:8080/",
          "height": 393
        },
        "id": "Y8ewVAlodPjC",
        "outputId": "a0864869-f483-47de-946b-d2b81c8bc9a1"
      },
      "execution_count": null,
      "outputs": [
        {
          "output_type": "display_data",
          "data": {
            "text/plain": [
              "<Figure size 864x864 with 0 Axes>"
            ]
          },
          "metadata": {}
        },
        {
          "output_type": "display_data",
          "data": {
            "text/plain": [
              "<Figure size 576x396 with 1 Axes>"
            ],
            "image/png": "[encoded data removed]"
          },
          "metadata": {}
        }
      ]
    },
    {
      "cell_type": "markdown",
      "source": [
        "**Conclusion.** It seems that RandomForest does a better job. For example, RamdomForest has higher recall for the minority class=2. Maybe a better hyperparameter tuning would lead to better results."
      ],
      "metadata": {
        "id": "D9KPnDWUbUUP"
      }
    },
    {
      "cell_type": "markdown",
      "source": [
        "### Future Steps:\n",
        "* We could consider manipulating the weights of our classes via more efficient hyperparamter search using HalvingRandomSearchCV or GridSearchCV with nested cross-validation. A popular library for hyperparameter optimization is hyperopt.\n",
        "* We could also implement Stacking Classifier approach.\n",
        "* Implement some techniques for imbalanced data such as upsampling or downsampling.\n",
        "* We can treat our problem as a regression problem and use for example RandomForestRegressor or XGBCRegressor or Linear Regression.\n",
        "* Improving the feature engineering part may lead to better results.\n"
      ],
      "metadata": {
        "id": "QqdjEl4iWEOt"
      }
    },
    {
      "cell_type": "code",
      "source": [],
      "metadata": {
        "id": "1W-89x1SBjNm"
      },
      "execution_count": null,
      "outputs": []
    }
  ]
}